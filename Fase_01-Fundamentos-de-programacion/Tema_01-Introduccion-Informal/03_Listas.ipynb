{
 "cells": [
  {
   "cell_type": "markdown",
   "id": "193cce5e",
   "metadata": {},
   "source": [
    "# Listas"
   ]
  },
  {
   "cell_type": "markdown",
   "id": "f2cfa918",
   "metadata": {},
   "source": [
    "Tipo compuesto de datos que puede almacenar distintos valores (llamados ítems) ordenados entre [ ] y separados por comas."
   ]
  },
  {
   "cell_type": "code",
   "execution_count": 1,
   "id": "8691d923",
   "metadata": {},
   "outputs": [],
   "source": [
    "numeros = [1,2,3,4]"
   ]
  },
  {
   "cell_type": "code",
   "execution_count": 2,
   "id": "f14e084d",
   "metadata": {},
   "outputs": [],
   "source": [
    "datos = [4, \"Una cadena\", -15, 3.14, \"Otra cadena\"]"
   ]
  },
  {
   "cell_type": "markdown",
   "id": "4cbee570",
   "metadata": {},
   "source": [
    "# Índices y slicing"
   ]
  },
  {
   "cell_type": "markdown",
   "id": "5d3f71cb",
   "metadata": {},
   "source": [
    "Funcionan de una forma muy similar a las cadenas de caracteres."
   ]
  },
  {
   "cell_type": "code",
   "execution_count": 3,
   "id": "4be549b7",
   "metadata": {},
   "outputs": [
    {
     "data": {
      "text/plain": [
       "4"
      ]
     },
     "execution_count": 3,
     "metadata": {},
     "output_type": "execute_result"
    }
   ],
   "source": [
    "datos[0]"
   ]
  },
  {
   "cell_type": "code",
   "execution_count": 4,
   "id": "49985d8b",
   "metadata": {},
   "outputs": [
    {
     "data": {
      "text/plain": [
       "'Otra cadena'"
      ]
     },
     "execution_count": 4,
     "metadata": {},
     "output_type": "execute_result"
    }
   ],
   "source": [
    "datos[-1]"
   ]
  },
  {
   "cell_type": "code",
   "execution_count": 6,
   "id": "f80d0f9e",
   "metadata": {},
   "outputs": [
    {
     "data": {
      "text/plain": [
       "[3.14, 'Otra cadena']"
      ]
     },
     "execution_count": 6,
     "metadata": {},
     "output_type": "execute_result"
    }
   ],
   "source": [
    "datos[-2:]"
   ]
  },
  {
   "cell_type": "markdown",
   "id": "592982e1",
   "metadata": {},
   "source": [
    "#### Suma de listas"
   ]
  },
  {
   "cell_type": "markdown",
   "id": "fe39fffb",
   "metadata": {},
   "source": [
    "Da como resultado una nueva lista que incluye todos los items."
   ]
  },
  {
   "cell_type": "code",
   "execution_count": 7,
   "id": "bfb499b1",
   "metadata": {},
   "outputs": [
    {
     "data": {
      "text/plain": [
       "[1, 2, 3, 4, 5, 6, 7, 8]"
      ]
     },
     "execution_count": 7,
     "metadata": {},
     "output_type": "execute_result"
    }
   ],
   "source": [
    "numeros + [5,6,7,8]"
   ]
  },
  {
   "cell_type": "markdown",
   "id": "5c8c876a",
   "metadata": {},
   "source": [
    "### Son modificables\n",
    "A diferencia de las cadenas, en las listas si se pueden modificar los items utilizando indices."
   ]
  },
  {
   "cell_type": "code",
   "execution_count": 9,
   "id": "0e1f14d6",
   "metadata": {},
   "outputs": [],
   "source": [
    "pares = [0,2,4,5,8,10]"
   ]
  },
  {
   "cell_type": "code",
   "execution_count": 10,
   "id": "4942fdbd",
   "metadata": {},
   "outputs": [],
   "source": [
    "pares[3] = 6"
   ]
  },
  {
   "cell_type": "code",
   "execution_count": 11,
   "id": "a7c2e33e",
   "metadata": {},
   "outputs": [
    {
     "data": {
      "text/plain": [
       "[0, 2, 4, 6, 8, 10]"
      ]
     },
     "execution_count": 11,
     "metadata": {},
     "output_type": "execute_result"
    }
   ],
   "source": [
    "pares"
   ]
  },
  {
   "cell_type": "markdown",
   "id": "eda48dcd",
   "metadata": {},
   "source": [
    "### Integran funcionalidades internas como el metodo.append( ) para añadir un ítem al final de la lista."
   ]
  },
  {
   "cell_type": "code",
   "execution_count": 12,
   "id": "fdbae2c9",
   "metadata": {},
   "outputs": [
    {
     "data": {
      "text/plain": [
       "[0, 2, 4, 6, 8, 10, 12]"
      ]
     },
     "execution_count": 12,
     "metadata": {},
     "output_type": "execute_result"
    }
   ],
   "source": [
    "pares.append(12)\n",
    "pares"
   ]
  },
  {
   "cell_type": "code",
   "execution_count": 13,
   "id": "0c2f05cc",
   "metadata": {},
   "outputs": [
    {
     "data": {
      "text/plain": [
       "[0, 2, 4, 6, 8, 10, 12, 14]"
      ]
     },
     "execution_count": 13,
     "metadata": {},
     "output_type": "execute_result"
    }
   ],
   "source": [
    "pares.append(7*2)\n",
    "pares"
   ]
  },
  {
   "cell_type": "markdown",
   "id": "9088fe97",
   "metadata": {},
   "source": [
    "### Una peculiaridad, es que, también aceptan asignación con slicing para modificar varios ítems en conjunto."
   ]
  },
  {
   "cell_type": "markdown",
   "id": "b6433ddb",
   "metadata": {},
   "source": [
    "#### Asignar una lista vacia equivalente a borrar de las listas o su vista"
   ]
  },
  {
   "cell_type": "code",
   "execution_count": 16,
   "id": "a4040e54",
   "metadata": {},
   "outputs": [],
   "source": [
    "letras= ['d','e','f']"
   ]
  },
  {
   "cell_type": "code",
   "execution_count": 18,
   "id": "ab03ee2c",
   "metadata": {},
   "outputs": [
    {
     "data": {
      "text/plain": [
       "['d', 'e', 'f']"
      ]
     },
     "execution_count": 18,
     "metadata": {},
     "output_type": "execute_result"
    }
   ],
   "source": [
    "letras"
   ]
  },
  {
   "cell_type": "code",
   "execution_count": 19,
   "id": "57013e76",
   "metadata": {},
   "outputs": [],
   "source": [
    "letras = []"
   ]
  },
  {
   "cell_type": "code",
   "execution_count": 20,
   "id": "a5cfe5e1",
   "metadata": {},
   "outputs": [
    {
     "data": {
      "text/plain": [
       "[]"
      ]
     },
     "execution_count": 20,
     "metadata": {},
     "output_type": "execute_result"
    }
   ],
   "source": [
    "letras"
   ]
  },
  {
   "cell_type": "markdown",
   "id": "6120fb86",
   "metadata": {},
   "source": [
    "### Funciones"
   ]
  },
  {
   "cell_type": "code",
   "execution_count": 22,
   "id": "cd8348c9",
   "metadata": {},
   "outputs": [
    {
     "data": {
      "text/plain": [
       "0"
      ]
     },
     "execution_count": 22,
     "metadata": {},
     "output_type": "execute_result"
    }
   ],
   "source": [
    "len(letras)"
   ]
  },
  {
   "cell_type": "code",
   "execution_count": 23,
   "id": "608b2514",
   "metadata": {},
   "outputs": [
    {
     "data": {
      "text/plain": [
       "8"
      ]
     },
     "execution_count": 23,
     "metadata": {},
     "output_type": "execute_result"
    }
   ],
   "source": [
    "len(pares)"
   ]
  },
  {
   "cell_type": "markdown",
   "id": "f63b2209",
   "metadata": {},
   "source": [
    "# Listas dentro de listas(anidadas)"
   ]
  },
  {
   "cell_type": "markdown",
   "id": "55162d00",
   "metadata": {},
   "source": [
    "Es posible manipular facilmente este tipo de estructuras utilizando multiples indices, como si se refiriera a las filas y columnas de la tabla"
   ]
  },
  {
   "cell_type": "code",
   "execution_count": 24,
   "id": "b468c411",
   "metadata": {},
   "outputs": [
    {
     "data": {
      "text/plain": [
       "[[1, 2, 3], [4, 5, 6], [7, 8, 9]]"
      ]
     },
     "execution_count": 24,
     "metadata": {},
     "output_type": "execute_result"
    }
   ],
   "source": [
    "a = [1,2,3]\n",
    "b = [4,5,6]\n",
    "c = [7,8,9]\n",
    "r = [a,b,c]\n",
    "r"
   ]
  },
  {
   "cell_type": "code",
   "execution_count": 26,
   "id": "81f021b2",
   "metadata": {},
   "outputs": [
    {
     "data": {
      "text/plain": [
       "[1, 2, 3]"
      ]
     },
     "execution_count": 26,
     "metadata": {},
     "output_type": "execute_result"
    }
   ],
   "source": [
    "r[0] #Primera sublista"
   ]
  },
  {
   "cell_type": "code",
   "execution_count": 27,
   "id": "3d651ceb",
   "metadata": {},
   "outputs": [
    {
     "data": {
      "text/plain": [
       "[7, 8, 9]"
      ]
     },
     "execution_count": 27,
     "metadata": {},
     "output_type": "execute_result"
    }
   ],
   "source": [
    "r[-1] #Ultima sublista"
   ]
  },
  {
   "cell_type": "code",
   "execution_count": 29,
   "id": "a9cd8c8d",
   "metadata": {},
   "outputs": [
    {
     "data": {
      "text/plain": [
       "1"
      ]
     },
     "execution_count": 29,
     "metadata": {},
     "output_type": "execute_result"
    }
   ],
   "source": [
    "r[0][0] #Primera sublista, y de ella el primer item."
   ]
  },
  {
   "cell_type": "code",
   "execution_count": 31,
   "id": "770dc009",
   "metadata": {},
   "outputs": [
    {
     "data": {
      "text/plain": [
       "5"
      ]
     },
     "execution_count": 31,
     "metadata": {},
     "output_type": "execute_result"
    }
   ],
   "source": [
    "r[1][1] #Segunda sublista, segundo item"
   ]
  },
  {
   "cell_type": "code",
   "execution_count": 33,
   "id": "b31ea772",
   "metadata": {},
   "outputs": [
    {
     "data": {
      "text/plain": [
       "9"
      ]
     },
     "execution_count": 33,
     "metadata": {},
     "output_type": "execute_result"
    }
   ],
   "source": [
    "r[2][2] #Tercer sublista, tercer item"
   ]
  },
  {
   "cell_type": "code",
   "execution_count": 36,
   "id": "444d995d",
   "metadata": {},
   "outputs": [
    {
     "data": {
      "text/plain": [
       "9"
      ]
     },
     "execution_count": 36,
     "metadata": {},
     "output_type": "execute_result"
    }
   ],
   "source": [
    "r[-1][-1] #Tercer sublista, ultimo item"
   ]
  },
  {
   "cell_type": "code",
   "execution_count": null,
   "id": "9598b2f5",
   "metadata": {},
   "outputs": [],
   "source": []
  }
 ],
 "metadata": {
  "kernelspec": {
   "display_name": "Python 3 (ipykernel)",
   "language": "python",
   "name": "python3"
  },
  "language_info": {
   "codemirror_mode": {
    "name": "ipython",
    "version": 3
   },
   "file_extension": ".py",
   "mimetype": "text/x-python",
   "name": "python",
   "nbconvert_exporter": "python",
   "pygments_lexer": "ipython3",
   "version": "3.9.16"
  }
 },
 "nbformat": 4,
 "nbformat_minor": 5
}
