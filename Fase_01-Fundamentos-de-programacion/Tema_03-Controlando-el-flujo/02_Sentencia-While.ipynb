{
 "cells": [
  {
   "cell_type": "markdown",
   "id": "a92d6d50",
   "metadata": {},
   "source": [
    "# Iteraciones\n",
    "Iterar significa realizar una accion varias veces. Cada vez que se repite se denomina iteracion.\n",
    "\n",
    "## Sentencia While (Mientras)\n",
    "Se basa en repetir un bloque a partir de evaluar una condicion logica, siempre que esta sea True.\n",
    "\n",
    "Queda en las manos del programador decidir el momento en que la condicion cambie a False para hacer que el while finalice."
   ]
  },
  {
   "cell_type": "code",
   "execution_count": 1,
   "id": "87a8b497",
   "metadata": {},
   "outputs": [
    {
     "name": "stdout",
     "output_type": "stream",
     "text": [
      "c vale 1\n",
      "c vale 2\n",
      "c vale 3\n",
      "c vale 4\n",
      "c vale 5\n",
      "c vale 6\n"
     ]
    }
   ],
   "source": [
    "c = 0\n",
    "while c <= 5:\n",
    "    c += 1\n",
    "    print(\"c vale\", c)"
   ]
  },
  {
   "cell_type": "markdown",
   "id": "89273ca6",
   "metadata": {},
   "source": [
    "## Sentencia Else en bucle While\n",
    "Se encadena al While para ejecutar un bloque de codigo una vez la condicion ya no devuelva True (normalmente al final)."
   ]
  },
  {
   "cell_type": "code",
   "execution_count": 2,
   "id": "ae84f822",
   "metadata": {},
   "outputs": [
    {
     "name": "stdout",
     "output_type": "stream",
     "text": [
      "c vale  1\n",
      "c vale  2\n",
      "c vale  3\n",
      "c vale  4\n",
      "c vale  5\n",
      "c vale  6\n",
      "Se ha completado toda la iteracion y c vale: 6\n"
     ]
    }
   ],
   "source": [
    "c = 0\n",
    "while c <=5:\n",
    "    c += 1\n",
    "    print(\"c vale \", c)\n",
    "else:\n",
    "    print(\"Se ha completado toda la iteracion y c vale:\", c)"
   ]
  },
  {
   "cell_type": "markdown",
   "id": "be526b54",
   "metadata": {},
   "source": [
    "## Instruccion Break\n",
    "Sirve para romper la ejecucion del while en cualquier momento. No se ejecutara el else, ya que este se llama solo al finalizar la iteracion."
   ]
  },
  {
   "cell_type": "code",
   "execution_count": 3,
   "id": "4d20f67b",
   "metadata": {},
   "outputs": [
    {
     "name": "stdout",
     "output_type": "stream",
     "text": [
      "c vale:  1\n",
      "c vale:  2\n",
      "c vale:  3\n",
      "Rompe el bucle cuando c vale:  4\n"
     ]
    }
   ],
   "source": [
    "c = 0\n",
    "while c <= 5:\n",
    "    c += 1\n",
    "    if (c==4):\n",
    "        print(\"Rompe el bucle cuando c vale: \", c)\n",
    "        break\n",
    "    print(\"c vale: \", c)\n",
    "else: \n",
    "    print(\"Se ha completado la iteracion y c vale: \", c)"
   ]
  },
  {
   "cell_type": "code",
   "execution_count": null,
   "id": "cc393373",
   "metadata": {},
   "outputs": [],
   "source": []
  }
 ],
 "metadata": {
  "kernelspec": {
   "display_name": "Python 3 (ipykernel)",
   "language": "python",
   "name": "python3"
  },
  "language_info": {
   "codemirror_mode": {
    "name": "ipython",
    "version": 3
   },
   "file_extension": ".py",
   "mimetype": "text/x-python",
   "name": "python",
   "nbconvert_exporter": "python",
   "pygments_lexer": "ipython3",
   "version": "3.9.16"
  }
 },
 "nbformat": 4,
 "nbformat_minor": 5
}
