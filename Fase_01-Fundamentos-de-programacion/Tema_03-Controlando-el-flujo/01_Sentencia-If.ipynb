{
 "cells": [
  {
   "cell_type": "markdown",
   "id": "3f11233c",
   "metadata": {},
   "source": [
    "# Condiciones \n",
    "## Sentencia if (si)\n",
    "Permite dividir el flujo de un programa en diferentes caminos. El if se ejecuta siempre que la expresion que comprueba devuelva True."
   ]
  },
  {
   "cell_type": "code",
   "execution_count": 1,
   "id": "2dec7b75",
   "metadata": {},
   "outputs": [
    {
     "name": "stdout",
     "output_type": "stream",
     "text": [
      "Se cumple la condicion\n",
      "Tambien se muestra este print\n"
     ]
    }
   ],
   "source": [
    "if True: #Equivale a if not False\n",
    "    print(\"Se cumple la condicion\")\n",
    "    print(\"Tambien se muestra este print\")"
   ]
  },
  {
   "cell_type": "markdown",
   "id": "7dcf2394",
   "metadata": {},
   "source": [
    "#### O tambien anidar if dentro de if."
   ]
  },
  {
   "cell_type": "code",
   "execution_count": 3,
   "id": "91bdde6b",
   "metadata": {},
   "outputs": [
    {
     "name": "stdout",
     "output_type": "stream",
     "text": [
      "a vale 5\n",
      " y b vale 10\n"
     ]
    }
   ],
   "source": [
    "a = 5\n",
    "b = 10\n",
    "if a == 5:\n",
    "    print(\"a vale\", a)\n",
    "    if b == 10:\n",
    "        print(\" y b vale\", 10)"
   ]
  },
  {
   "cell_type": "markdown",
   "id": "25dcb6f7",
   "metadata": {},
   "source": [
    "#### Como condicion, se puede evaluar multiples expresiones, siempre que estas devuelvan True o False."
   ]
  },
  {
   "cell_type": "code",
   "execution_count": 4,
   "id": "1fa68eae",
   "metadata": {},
   "outputs": [
    {
     "name": "stdout",
     "output_type": "stream",
     "text": [
      "a vale 5 y b vale 10\n"
     ]
    }
   ],
   "source": [
    "if a == 5 and b == 10:\n",
    "    print(\"a vale 5 y b vale 10\")"
   ]
  },
  {
   "cell_type": "markdown",
   "id": "4a8639ed",
   "metadata": {},
   "source": [
    "# Sentencia Else (si no)\n",
    "Se encadena a un if para comprobar el caso contrario en el que no se cumpla la condicion"
   ]
  },
  {
   "cell_type": "code",
   "execution_count": 5,
   "id": "a112e875",
   "metadata": {},
   "outputs": [
    {
     "name": "stdout",
     "output_type": "stream",
     "text": [
      "11 es un numero impar\n"
     ]
    }
   ],
   "source": [
    "n = 11\n",
    "if n % 2 == 0:\n",
    "    print(n,\"es un numero par\")\n",
    "else:\n",
    "    print(n,\"es un numero impar\")"
   ]
  },
  {
   "cell_type": "markdown",
   "id": "048b131c",
   "metadata": {},
   "source": [
    "# Sentencia Elif (si no si)\n",
    "Se encadena a un if u otro elif para comprobar multiples condiciones, siempre que las anteriores no se ejecuten"
   ]
  },
  {
   "cell_type": "code",
   "execution_count": 6,
   "id": "6f9c949a",
   "metadata": {},
   "outputs": [
    {
     "name": "stdout",
     "output_type": "stream",
     "text": [
      "Este comando no se reconoce\n"
     ]
    }
   ],
   "source": [
    "comando = \"Otra cosa\"\n",
    "if comando == \"Entrar\":\n",
    "    print(\"Bienvenido al sistema\")\n",
    "elif comando == \"Saludar\":\n",
    "    print(\"Hola, espero que te la estes pasando chido en el curso de Python 3\")\n",
    "elif comando == \"Salir\":\n",
    "    print(\"Saliendo del sistema\")\n",
    "else:\n",
    "    print(\"Este comando no se reconoce\")"
   ]
  },
  {
   "cell_type": "code",
   "execution_count": 7,
   "id": "43879261",
   "metadata": {},
   "outputs": [
    {
     "name": "stdout",
     "output_type": "stream",
     "text": [
      "Introduce una calificacion: 9.5\n",
      "Sobresaliente\n"
     ]
    }
   ],
   "source": [
    "nota = float(input(\"Introduce una calificacion: \"))\n",
    "if nota >= 9:\n",
    "    print(\"Sobresaliente\")\n",
    "elif nota >= 7:\n",
    "    print(\"Notable\")\n",
    "elif nota >= 6:\n",
    "    print(\"Bien\")\n",
    "elif nota >= 5:\n",
    "    print(\"Suficiente\")\n",
    "else:\n",
    "    print(\"Insuficiente\")"
   ]
  },
  {
   "cell_type": "markdown",
   "id": "632c223e",
   "metadata": {},
   "source": [
    "#### Es posible simular el funcionamiento del elif utilizando expresiones condicionales"
   ]
  },
  {
   "cell_type": "code",
   "execution_count": 8,
   "id": "e83d9774",
   "metadata": {},
   "outputs": [
    {
     "name": "stdout",
     "output_type": "stream",
     "text": [
      "Introduce una nota: 8\n",
      "Notable\n"
     ]
    }
   ],
   "source": [
    "nota = float(input(\"Introduce una nota: \"))\n",
    "if nota >= 9:\n",
    "    print(\"Sobresaliente\")\n",
    "if nota >= 7 and nota < 9:\n",
    "    print(\"Notable\")\n",
    "if nota >= 6 and nota < 7:\n",
    "    print(\"Bien\")\n",
    "if nota >= 5 and nota <6:\n",
    "    print(\"Suficiente\")\n",
    "if nota < 5:\n",
    "    print(\"Insuficiente\")"
   ]
  },
  {
   "cell_type": "markdown",
   "id": "5912bd11",
   "metadata": {},
   "source": [
    "## Instruccion Pass\n",
    "Sirve para finalizar un bloque, se puede utilizar en un bloque vacio."
   ]
  },
  {
   "cell_type": "code",
   "execution_count": 9,
   "id": "651e7209",
   "metadata": {},
   "outputs": [],
   "source": [
    "if True:\n",
    "    pass"
   ]
  }
 ],
 "metadata": {
  "kernelspec": {
   "display_name": "Python 3 (ipykernel)",
   "language": "python",
   "name": "python3"
  },
  "language_info": {
   "codemirror_mode": {
    "name": "ipython",
    "version": 3
   },
   "file_extension": ".py",
   "mimetype": "text/x-python",
   "name": "python",
   "nbconvert_exporter": "python",
   "pygments_lexer": "ipython3",
   "version": "3.9.16"
  }
 },
 "nbformat": 4,
 "nbformat_minor": 5
}
