{
 "cells": [
  {
   "cell_type": "code",
   "execution_count": 1,
   "id": "c96aee8d",
   "metadata": {},
   "outputs": [
    {
     "name": "stdout",
     "output_type": "stream",
     "text": [
      "0 Es un numero par\n",
      "1 Es un numero impar\n",
      "2 Es un numero par\n",
      "3 Es un numero impar\n",
      "4 Es un numero par\n",
      "5 Es un numero impar\n",
      "6 Es un numero par\n",
      "7 Es un numero impar\n",
      "8 Es un numero par\n",
      "9 Es un numero impar\n"
     ]
    }
   ],
   "source": [
    "n = 0\n",
    "while n<10:\n",
    "    if(n%2) ==0:\n",
    "        print(n, \"Es un numero par\")\n",
    "    else:\n",
    "        print(n,\"Es un numero impar\")\n",
    "    n = n+1"
   ]
  },
  {
   "cell_type": "code",
   "execution_count": null,
   "id": "816ef10e",
   "metadata": {},
   "outputs": [],
   "source": []
  }
 ],
 "metadata": {
  "kernelspec": {
   "display_name": "Python 3 (ipykernel)",
   "language": "python",
   "name": "python3"
  },
  "language_info": {
   "codemirror_mode": {
    "name": "ipython",
    "version": 3
   },
   "file_extension": ".py",
   "mimetype": "text/x-python",
   "name": "python",
   "nbconvert_exporter": "python",
   "pygments_lexer": "ipython3",
   "version": "3.9.16"
  }
 },
 "nbformat": 4,
 "nbformat_minor": 5
}
