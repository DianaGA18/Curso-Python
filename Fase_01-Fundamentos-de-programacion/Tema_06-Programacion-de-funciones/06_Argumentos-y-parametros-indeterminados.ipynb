{
 "cells": [
  {
   "cell_type": "markdown",
   "id": "c933eed1",
   "metadata": {},
   "source": [
    "# Argumentos y parametros indeterminados.\n",
    "Quiza en una ocacion no se sabe de antemano cuantos elementos se van a enviar a la funcion. en estos casos se puede utilizar los parametros indeterminados por posicion y por nombre. \n",
    "\n",
    "### Por posicion.\n",
    "Para recibir un numero indeterminado de parametros por posicion, se debe crear una lista dinamica de argumentos (tupla)."
   ]
  },
  {
   "cell_type": "code",
   "execution_count": 2,
   "id": "a77d2ecf",
   "metadata": {},
   "outputs": [
    {
     "name": "stdout",
     "output_type": "stream",
     "text": [
      "5\n",
      "Hola\n",
      "[1, 2, 3, 4, 5]\n"
     ]
    }
   ],
   "source": [
    "def indeterminados_posicion(*args):\n",
    "    for arg in args:\n",
    "        print(arg)\n",
    "\n",
    "indeterminados_posicion(5,\"Hola\",[1,2,3,4,5])"
   ]
  },
  {
   "cell_type": "markdown",
   "id": "8c787cf1",
   "metadata": {},
   "source": [
    "### Por nombre\n",
    "Para recibir un numero indeterminado de parametros por nombre(clave-valor), se debe crear un diccionario dinammico de argumentos:"
   ]
  },
  {
   "cell_type": "code",
   "execution_count": 3,
   "id": "e91df79a",
   "metadata": {},
   "outputs": [
    {
     "name": "stdout",
     "output_type": "stream",
     "text": [
      "{'n': 5, 'c': 'Hola Mundo', 'L': [1, 2, 3, 4, 5]}\n"
     ]
    }
   ],
   "source": [
    "def indeterminados_nombre(**kwargs):\n",
    "    print(kwargs)\n",
    "    \n",
    "indeterminados_nombre(n=5, c='Hola Mundo', L=[1,2,3,4,5])"
   ]
  },
  {
   "cell_type": "code",
   "execution_count": 4,
   "id": "8411a949",
   "metadata": {},
   "outputs": [
    {
     "name": "stdout",
     "output_type": "stream",
     "text": [
      "n\n",
      "c\n",
      "L\n"
     ]
    }
   ],
   "source": [
    "def indeterminados_nombre(**kwargs):\n",
    "    for kwargs in kwargs:\n",
    "        print(kwargs)\n",
    "    \n",
    "indeterminados_nombre(n=5, c='Hola Mundo', L=[1,2,3,4,5])"
   ]
  },
  {
   "cell_type": "code",
   "execution_count": 6,
   "id": "064d06aa",
   "metadata": {},
   "outputs": [
    {
     "name": "stdout",
     "output_type": "stream",
     "text": [
      "n   5\n",
      "c   Hola Mundo\n",
      "L   [1, 2, 3, 4, 5]\n"
     ]
    }
   ],
   "source": [
    "def indeterminados_nombre(**kwargs):\n",
    "    for kwarg in kwargs:\n",
    "        print(kwarg, \" \", kwargs[kwarg])\n",
    "    \n",
    "indeterminados_nombre(n=5, c='Hola Mundo', L=[1,2,3,4,5])"
   ]
  },
  {
   "cell_type": "markdown",
   "id": "f9fec1b6",
   "metadata": {},
   "source": [
    "## Por posicion y nombre a la vez.\n",
    "Si se quiere aceptar ambos tipos de parametros simultaneamente, entonces se debe crear ambas colecciones dinamicas:"
   ]
  },
  {
   "cell_type": "code",
   "execution_count": 9,
   "id": "37680800",
   "metadata": {},
   "outputs": [
    {
     "name": "stdout",
     "output_type": "stream",
     "text": [
      "El valor de la sumatoria indeterminada es:  10\n",
      "El valor de la sumatoria indeterminada es:  60\n",
      "El valor de la sumatoria indeterminada es:  59\n",
      "El valor de la sumatoria indeterminada es:  60.56\n",
      "El valor de la sumatoria indeterminada es:  70.56\n",
      "El valor de la sumatoria indeterminada es:  90.56\n",
      "El valor de la sumatoria indeterminada es:  390.56\n",
      "Nombre   Christian\n",
      "Edad   20\n"
     ]
    }
   ],
   "source": [
    "def super_funcion(*args, **kwargs):\n",
    "    t=0\n",
    "    for arg in args:\n",
    "        t +=arg\n",
    "        print(\"El valor de la sumatoria indeterminada es: \",t)\n",
    "    for kwarg in kwargs:\n",
    "        print(kwarg, \" \", kwargs[kwarg])\n",
    "\n",
    "super_funcion(10,50,-1,1.56,10,20,300, Nombre = \"Christian\", Edad=20)"
   ]
  },
  {
   "cell_type": "code",
   "execution_count": null,
   "id": "a767d4f0",
   "metadata": {},
   "outputs": [],
   "source": []
  }
 ],
 "metadata": {
  "kernelspec": {
   "display_name": "Python 3 (ipykernel)",
   "language": "python",
   "name": "python3"
  },
  "language_info": {
   "codemirror_mode": {
    "name": "ipython",
    "version": 3
   },
   "file_extension": ".py",
   "mimetype": "text/x-python",
   "name": "python",
   "nbconvert_exporter": "python",
   "pygments_lexer": "ipython3",
   "version": "3.9.16"
  }
 },
 "nbformat": 4,
 "nbformat_minor": 5
}
