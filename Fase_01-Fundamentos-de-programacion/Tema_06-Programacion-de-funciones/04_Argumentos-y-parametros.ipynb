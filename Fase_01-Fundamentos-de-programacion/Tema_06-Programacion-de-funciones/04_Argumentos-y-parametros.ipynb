{
 "cells": [
  {
   "cell_type": "markdown",
   "id": "5ce73aaa",
   "metadata": {},
   "source": [
    "# Trabajando con argumentos y parametros\n",
    "### Argumentos por posicion."
   ]
  },
  {
   "cell_type": "code",
   "execution_count": 1,
   "id": "2810ec6c",
   "metadata": {},
   "outputs": [
    {
     "data": {
      "text/plain": [
       "-1"
      ]
     },
     "execution_count": 1,
     "metadata": {},
     "output_type": "execute_result"
    }
   ],
   "source": [
    "def resta(a,b):\n",
    "    return a-b\n",
    "resta(1,2) #Posicion indice 0 valor 1, posicion indice 1 valor"
   ]
  },
  {
   "cell_type": "markdown",
   "id": "6410003d",
   "metadata": {},
   "source": [
    "# Argumentos por nombre"
   ]
  },
  {
   "cell_type": "code",
   "execution_count": 2,
   "id": "fc1d1f22",
   "metadata": {},
   "outputs": [
    {
     "data": {
      "text/plain": [
       "-1"
      ]
     },
     "execution_count": 2,
     "metadata": {},
     "output_type": "execute_result"
    }
   ],
   "source": [
    "resta(b=2, a=1)"
   ]
  },
  {
   "cell_type": "markdown",
   "id": "1a2153dc",
   "metadata": {},
   "source": [
    "### Llamada sin argumentos\n",
    "Al llamar una funcion que tiene definidos parametros, si no se pasan los argumentos correctamente, provocara un error."
   ]
  },
  {
   "cell_type": "code",
   "execution_count": 3,
   "id": "4cd23fe5",
   "metadata": {},
   "outputs": [
    {
     "ename": "TypeError",
     "evalue": "resta() missing 2 required positional arguments: 'a' and 'b'",
     "output_type": "error",
     "traceback": [
      "\u001b[1;31m---------------------------------------------------------------------------\u001b[0m",
      "\u001b[1;31mTypeError\u001b[0m                                 Traceback (most recent call last)",
      "Cell \u001b[1;32mIn[3], line 1\u001b[0m\n\u001b[1;32m----> 1\u001b[0m \u001b[43mresta\u001b[49m\u001b[43m(\u001b[49m\u001b[43m)\u001b[49m\n",
      "\u001b[1;31mTypeError\u001b[0m: resta() missing 2 required positional arguments: 'a' and 'b'"
     ]
    }
   ],
   "source": [
    "resta()"
   ]
  },
  {
   "cell_type": "markdown",
   "id": "ece19317",
   "metadata": {},
   "source": [
    "### Parametros por defecto.\n",
    "Para solucionarlo se puede asignar valores por defecto nulos a los parametros y de esa forma se podrian hacer una comprobacion antes de ejecutar el codigo de la funcion:"
   ]
  },
  {
   "cell_type": "code",
   "execution_count": 4,
   "id": "464d7ade",
   "metadata": {},
   "outputs": [
    {
     "data": {
      "text/plain": [
       "-4"
      ]
     },
     "execution_count": 4,
     "metadata": {},
     "output_type": "execute_result"
    }
   ],
   "source": [
    "def resta(a=None, b=None):\n",
    "    if a == None or b == None:\n",
    "        print(\"Error, debes enviar dos numeros a la funcion\")\n",
    "        return\n",
    "    return a -b\n",
    "resta(1,5)"
   ]
  },
  {
   "cell_type": "code",
   "execution_count": null,
   "id": "62f17c19",
   "metadata": {},
   "outputs": [],
   "source": []
  }
 ],
 "metadata": {
  "kernelspec": {
   "display_name": "Python 3 (ipykernel)",
   "language": "python",
   "name": "python3"
  },
  "language_info": {
   "codemirror_mode": {
    "name": "ipython",
    "version": 3
   },
   "file_extension": ".py",
   "mimetype": "text/x-python",
   "name": "python",
   "nbconvert_exporter": "python",
   "pygments_lexer": "ipython3",
   "version": "3.9.16"
  }
 },
 "nbformat": 4,
 "nbformat_minor": 5
}
