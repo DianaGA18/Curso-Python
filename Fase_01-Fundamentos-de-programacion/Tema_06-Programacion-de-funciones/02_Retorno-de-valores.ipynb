{
 "cells": [
  {
   "cell_type": "markdown",
   "id": "444b9285",
   "metadata": {},
   "source": [
    "# Retorno de valores.\n",
    "Para comunicarse con el exterior, las funciones pueden devolver valores al proceso principal, gracias a la instruccion **return**.\n",
    "En el momento de devolver un valor, la ejecucion de la funcion finalizara:"
   ]
  },
  {
   "cell_type": "code",
   "execution_count": 1,
   "id": "0f764ef9",
   "metadata": {},
   "outputs": [
    {
     "data": {
      "text/plain": [
       "'Una cadena recortada'"
      ]
     },
     "execution_count": 1,
     "metadata": {},
     "output_type": "execute_result"
    }
   ],
   "source": [
    "def test():\n",
    "    return \"Una cadena recortada\"\n",
    "test()"
   ]
  },
  {
   "cell_type": "markdown",
   "id": "311ff33f",
   "metadata": {},
   "source": [
    "### Los valores devueltos se tratan como valores literales directos del tipo de dato retornado:"
   ]
  },
  {
   "cell_type": "code",
   "execution_count": 2,
   "id": "d65dc01b",
   "metadata": {},
   "outputs": [
    {
     "name": "stdout",
     "output_type": "stream",
     "text": [
      "Una cadena recortada\n"
     ]
    }
   ],
   "source": [
    "print(test())"
   ]
  },
  {
   "cell_type": "code",
   "execution_count": 3,
   "id": "86babc30",
   "metadata": {},
   "outputs": [],
   "source": [
    "c = test()"
   ]
  },
  {
   "cell_type": "code",
   "execution_count": 4,
   "id": "fd1875c1",
   "metadata": {},
   "outputs": [
    {
     "name": "stdout",
     "output_type": "stream",
     "text": [
      "Una cadena recortada\n"
     ]
    }
   ],
   "source": [
    "print (c)"
   ]
  },
  {
   "cell_type": "code",
   "execution_count": 5,
   "id": "5a01d7a4",
   "metadata": {},
   "outputs": [
    {
     "ename": "TypeError",
     "evalue": "unsupported operand type(s) for +: 'function' and 'int'",
     "output_type": "error",
     "traceback": [
      "\u001b[1;31m---------------------------------------------------------------------------\u001b[0m",
      "\u001b[1;31mTypeError\u001b[0m                                 Traceback (most recent call last)",
      "Cell \u001b[1;32mIn[5], line 1\u001b[0m\n\u001b[1;32m----> 1\u001b[0m c \u001b[38;5;241m=\u001b[39m \u001b[43mtest\u001b[49m\u001b[43m \u001b[49m\u001b[38;5;241;43m+\u001b[39;49m\u001b[43m \u001b[49m\u001b[38;5;241;43m10\u001b[39;49m\n",
      "\u001b[1;31mTypeError\u001b[0m: unsupported operand type(s) for +: 'function' and 'int'"
     ]
    }
   ],
   "source": [
    "c = test + 10"
   ]
  },
  {
   "cell_type": "markdown",
   "id": "6704b3c6",
   "metadata": {},
   "source": [
    "### Eso inlcuye cualquier tipo de coleccion."
   ]
  },
  {
   "cell_type": "code",
   "execution_count": 6,
   "id": "8dfac747",
   "metadata": {},
   "outputs": [
    {
     "name": "stdout",
     "output_type": "stream",
     "text": [
      "[1, 2, 3, 4, 5, 6]\n"
     ]
    }
   ],
   "source": [
    "def test():\n",
    "    return [1,2,3,4,5,6]\n",
    "\n",
    "print (test())"
   ]
  },
  {
   "cell_type": "code",
   "execution_count": 7,
   "id": "7e348ccd",
   "metadata": {},
   "outputs": [
    {
     "name": "stdout",
     "output_type": "stream",
     "text": [
      "6\n"
     ]
    }
   ],
   "source": [
    "print (test()[-1])"
   ]
  },
  {
   "cell_type": "code",
   "execution_count": 8,
   "id": "6bd1f4e6",
   "metadata": {},
   "outputs": [
    {
     "name": "stdout",
     "output_type": "stream",
     "text": [
      "[2, 3, 4]\n"
     ]
    }
   ],
   "source": [
    "print (test()[1:4])"
   ]
  },
  {
   "cell_type": "code",
   "execution_count": 9,
   "id": "6fd770e4",
   "metadata": {},
   "outputs": [],
   "source": [
    "L = test()"
   ]
  },
  {
   "cell_type": "code",
   "execution_count": 10,
   "id": "8125be75",
   "metadata": {},
   "outputs": [
    {
     "data": {
      "text/plain": [
       "6"
      ]
     },
     "execution_count": 10,
     "metadata": {},
     "output_type": "execute_result"
    }
   ],
   "source": [
    "L[-1]"
   ]
  },
  {
   "cell_type": "markdown",
   "id": "9e90928a",
   "metadata": {},
   "source": [
    "## Retorno multiple\n",
    "Una caracteristica interesante es la posibilidad de devolver multiples valores separados por comas."
   ]
  },
  {
   "cell_type": "code",
   "execution_count": 11,
   "id": "68166f5e",
   "metadata": {},
   "outputs": [
    {
     "data": {
      "text/plain": [
       "('Una Cadena', 20, [1, 2, 3])"
      ]
     },
     "execution_count": 11,
     "metadata": {},
     "output_type": "execute_result"
    }
   ],
   "source": [
    "def test():\n",
    "    return \"Una Cadena\",20,[1,2,3]\n",
    "test()"
   ]
  },
  {
   "cell_type": "markdown",
   "id": "786537f8",
   "metadata": {},
   "source": [
    "#### Estos valores se tratan en conjunto como una tupla inmutable y se pueden reasignar a distintas variables"
   ]
  },
  {
   "cell_type": "code",
   "execution_count": 15,
   "id": "2e4fbe0f",
   "metadata": {},
   "outputs": [
    {
     "name": "stdout",
     "output_type": "stream",
     "text": [
      "Una Cadena\n"
     ]
    }
   ],
   "source": [
    "c,n,l = test()\n",
    "print(c)"
   ]
  },
  {
   "cell_type": "code",
   "execution_count": null,
   "id": "8de63d57",
   "metadata": {},
   "outputs": [],
   "source": []
  }
 ],
 "metadata": {
  "kernelspec": {
   "display_name": "Python 3 (ipykernel)",
   "language": "python",
   "name": "python3"
  },
  "language_info": {
   "codemirror_mode": {
    "name": "ipython",
    "version": 3
   },
   "file_extension": ".py",
   "mimetype": "text/x-python",
   "name": "python",
   "nbconvert_exporter": "python",
   "pygments_lexer": "ipython3",
   "version": "3.9.16"
  }
 },
 "nbformat": 4,
 "nbformat_minor": 5
}
