{
 "cells": [
  {
   "cell_type": "markdown",
   "id": "5e365c27",
   "metadata": {},
   "source": [
    "# Paso por valor y paso por referencia.\n",
    "- **Paso por valor**: Se crea una copia local de la variable dentro de la funcion.\n",
    "- **Paso por referencia**: Se maneja directamente la variable los cambios realizados dentro le afectaran tambien fuera.\n",
    "\n",
    "Tradicionalmente, **los tipos simples se pasan automaticamente por valor y los compuestos por referencia**.\n",
    "\n",
    "- **Simples**: Enteros, flotantes, cadenas, logicos...\n",
    "- **Compuestos**: Listas, diccionarios, conjuntos..."
   ]
  },
  {
   "cell_type": "markdown",
   "id": "b2262c86",
   "metadata": {},
   "source": [
    "## Ejemplo paso por valor."
   ]
  },
  {
   "cell_type": "code",
   "execution_count": 1,
   "id": "bba36c37",
   "metadata": {},
   "outputs": [
    {
     "data": {
      "text/plain": [
       "10"
      ]
     },
     "execution_count": 1,
     "metadata": {},
     "output_type": "execute_result"
    }
   ],
   "source": [
    "def doblar_valor(numero):\n",
    "    numero += 2\n",
    "\n",
    "n=10\n",
    "doblar_valor(n)\n",
    "n"
   ]
  },
  {
   "cell_type": "markdown",
   "id": "2244634d",
   "metadata": {},
   "source": [
    "### Paso por referencia."
   ]
  },
  {
   "cell_type": "code",
   "execution_count": 3,
   "id": "b6cc6594",
   "metadata": {},
   "outputs": [
    {
     "data": {
      "text/plain": [
       "[20, 100, 200]"
      ]
     },
     "execution_count": 3,
     "metadata": {},
     "output_type": "execute_result"
    }
   ],
   "source": [
    "def doblar_valores(numeros):\n",
    "    for i,n in enumerate(numeros):\n",
    "        numeros[i]*=2\n",
    "ns = [10,50,100]\n",
    "doblar_valores(ns)\n",
    "ns"
   ]
  },
  {
   "cell_type": "markdown",
   "id": "5d4bc1a2",
   "metadata": {},
   "source": [
    "# Trucos\n",
    "Para modificar los tipos simples, se pueden devolver modificados y reasignados:"
   ]
  },
  {
   "cell_type": "code",
   "execution_count": 4,
   "id": "e0676db3",
   "metadata": {},
   "outputs": [
    {
     "data": {
      "text/plain": [
       "20"
      ]
     },
     "execution_count": 4,
     "metadata": {},
     "output_type": "execute_result"
    }
   ],
   "source": [
    "def doblar_valor(numero):\n",
    "    return numero*2\n",
    "n =10\n",
    "n= doblar_valor(n)\n",
    "n"
   ]
  },
  {
   "cell_type": "markdown",
   "id": "675b9ea4",
   "metadata": {},
   "source": [
    "#### Y en caso de que los tipos compuestos, es posible modificarlos enviando una copia:"
   ]
  },
  {
   "cell_type": "code",
   "execution_count": 6,
   "id": "6b9674bc",
   "metadata": {},
   "outputs": [
    {
     "data": {
      "text/plain": [
       "[10, 50, 100]"
      ]
     },
     "execution_count": 6,
     "metadata": {},
     "output_type": "execute_result"
    }
   ],
   "source": [
    "def doblar_valores(numeros):\n",
    "    for i,n in enumerate(numeros):\n",
    "        numeros[1] *= 2\n",
    "ns = [10,50,100]\n",
    "doblar_valores(ns[:]) #Hace una copia en ejecucion de una ista\n",
    "ns"
   ]
  },
  {
   "cell_type": "code",
   "execution_count": null,
   "id": "44179ea0",
   "metadata": {},
   "outputs": [],
   "source": []
  }
 ],
 "metadata": {
  "kernelspec": {
   "display_name": "Python 3 (ipykernel)",
   "language": "python",
   "name": "python3"
  },
  "language_info": {
   "codemirror_mode": {
    "name": "ipython",
    "version": 3
   },
   "file_extension": ".py",
   "mimetype": "text/x-python",
   "name": "python",
   "nbconvert_exporter": "python",
   "pygments_lexer": "ipython3",
   "version": "3.9.16"
  }
 },
 "nbformat": 4,
 "nbformat_minor": 5
}
