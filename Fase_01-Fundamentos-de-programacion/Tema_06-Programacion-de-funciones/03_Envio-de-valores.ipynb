{
 "cells": [
  {
   "cell_type": "markdown",
   "id": "49a819bd",
   "metadata": {},
   "source": [
    "# Envio de valores\n",
    "Para comunicarse con el exterior, las funciones de valores pueden recibir informacion."
   ]
  },
  {
   "cell_type": "code",
   "execution_count": 1,
   "id": "1c0cb372",
   "metadata": {},
   "outputs": [],
   "source": [
    "def suma(a,b): #Valores que se reciben\n",
    "    return a+b"
   ]
  },
  {
   "cell_type": "markdown",
   "id": "5b34feed",
   "metadata": {},
   "source": [
    "ahora se pueden enviar 2 valores a la funcion"
   ]
  },
  {
   "cell_type": "code",
   "execution_count": 2,
   "id": "5b565660",
   "metadata": {},
   "outputs": [
    {
     "data": {
      "text/plain": [
       "7"
      ]
     },
     "execution_count": 2,
     "metadata": {},
     "output_type": "execute_result"
    }
   ],
   "source": [
    "r = suma(2,5) #Valores que se envian a la funcion suma\n",
    "r"
   ]
  },
  {
   "cell_type": "markdown",
   "id": "05eb3dd9",
   "metadata": {},
   "source": [
    "# Parametros y argumentos\n",
    "En la definicion de una funcion, los valores que se reciben se denomina parametros y en la llamada se denominan argumentos."
   ]
  },
  {
   "cell_type": "code",
   "execution_count": null,
   "id": "0cd42526",
   "metadata": {},
   "outputs": [],
   "source": []
  }
 ],
 "metadata": {
  "kernelspec": {
   "display_name": "Python 3 (ipykernel)",
   "language": "python",
   "name": "python3"
  },
  "language_info": {
   "codemirror_mode": {
    "name": "ipython",
    "version": 3
   },
   "file_extension": ".py",
   "mimetype": "text/x-python",
   "name": "python",
   "nbconvert_exporter": "python",
   "pygments_lexer": "ipython3",
   "version": "3.9.16"
  }
 },
 "nbformat": 4,
 "nbformat_minor": 5
}
