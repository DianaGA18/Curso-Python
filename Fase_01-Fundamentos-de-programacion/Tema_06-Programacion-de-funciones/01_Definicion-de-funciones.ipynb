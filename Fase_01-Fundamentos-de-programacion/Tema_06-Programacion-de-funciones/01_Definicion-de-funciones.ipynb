{
 "cells": [
  {
   "cell_type": "markdown",
   "id": "1ba6dd74",
   "metadata": {},
   "source": [
    "# Las funciones.\n",
    "Son fragmentos de codigo que se pueden ejecutar multiples veces. Pueden recibir y devolver informacion para comunicarse con respecto al proceso principal.\n",
    "### Definicion y llamada"
   ]
  },
  {
   "cell_type": "code",
   "execution_count": 1,
   "id": "934fb5b6",
   "metadata": {},
   "outputs": [
    {
     "name": "stdout",
     "output_type": "stream",
     "text": [
      "Hola!!! Este print se llama desde la funcion saludar()\n"
     ]
    }
   ],
   "source": [
    "def saludar():\n",
    "    print(\"Hola!!! Este print se llama desde la funcion saludar()\")\n",
    "saludar()"
   ]
  },
  {
   "cell_type": "markdown",
   "id": "77ec97b8",
   "metadata": {},
   "source": [
    "### Dentro de una funcion se pueden utilizar variables y sentencias de control:"
   ]
  },
  {
   "cell_type": "code",
   "execution_count": 4,
   "id": "b1d03c92",
   "metadata": {},
   "outputs": [
    {
     "name": "stdout",
     "output_type": "stream",
     "text": [
      "5 * 0 = 0\n",
      "5 * 1 = 5\n",
      "5 * 2 = 10\n",
      "5 * 3 = 15\n",
      "5 * 4 = 20\n",
      "5 * 5 = 25\n",
      "5 * 6 = 30\n",
      "5 * 7 = 35\n",
      "5 * 8 = 40\n",
      "5 * 9 = 45\n",
      "5 * 10 = 50\n"
     ]
    }
   ],
   "source": [
    "def dibujar_tabla_del_5():\n",
    "    for i in range(11):\n",
    "        print(\"5 * {} = {}\".format(i, i*5))\n",
    "dibujar_tabla_del_5()"
   ]
  },
  {
   "cell_type": "markdown",
   "id": "dde55318",
   "metadata": {},
   "source": [
    "## Ambito de las variables.\n",
    "Una variable declarada en una funcion no existe en la funcion principal:"
   ]
  },
  {
   "cell_type": "code",
   "execution_count": 5,
   "id": "ad7d6556",
   "metadata": {},
   "outputs": [],
   "source": [
    "def test():\n",
    "    n=10\n",
    "test()"
   ]
  },
  {
   "cell_type": "code",
   "execution_count": 6,
   "id": "24604015",
   "metadata": {},
   "outputs": [
    {
     "ename": "NameError",
     "evalue": "name 'n' is not defined",
     "output_type": "error",
     "traceback": [
      "\u001b[1;31m---------------------------------------------------------------------------\u001b[0m",
      "\u001b[1;31mNameError\u001b[0m                                 Traceback (most recent call last)",
      "Cell \u001b[1;32mIn[6], line 1\u001b[0m\n\u001b[1;32m----> 1\u001b[0m \u001b[38;5;28mprint\u001b[39m(\u001b[43mn\u001b[49m)\n",
      "\u001b[1;31mNameError\u001b[0m: name 'n' is not defined"
     ]
    }
   ],
   "source": [
    "print(n)"
   ]
  },
  {
   "cell_type": "markdown",
   "id": "7b098172",
   "metadata": {},
   "source": [
    "#### Sin embargo, una variable declarada fuera de la funcion (al mismo nivel), si es posible acceder desde la funcion:"
   ]
  },
  {
   "cell_type": "code",
   "execution_count": 8,
   "id": "a858c4b6",
   "metadata": {},
   "outputs": [
    {
     "name": "stdout",
     "output_type": "stream",
     "text": [
      "10\n"
     ]
    }
   ],
   "source": [
    "m = 10\n",
    "def test():\n",
    "    print(m)\n",
    "test()"
   ]
  },
  {
   "cell_type": "markdown",
   "id": "ec048265",
   "metadata": {},
   "source": [
    "#### Siempre que se declare la variable antes de la ejecucion, es posible acceder a ella desde dentro:"
   ]
  },
  {
   "cell_type": "code",
   "execution_count": 11,
   "id": "da914b24",
   "metadata": {},
   "outputs": [
    {
     "name": "stdout",
     "output_type": "stream",
     "text": [
      "10\n"
     ]
    }
   ],
   "source": [
    "def test():\n",
    "    print(L)\n",
    "#test()\n",
    "L = 10\n",
    "test()"
   ]
  },
  {
   "cell_type": "markdown",
   "id": "8b6773cc",
   "metadata": {},
   "source": [
    "#### En el caso que se declare una nueva variable en la funcion, se creara una copia de la misma, que solo funcionara dentro de la funcion.\n",
    "### Por tanto *No se puede modificar una variable externa dentro de la funcion*."
   ]
  },
  {
   "cell_type": "code",
   "execution_count": 12,
   "id": "573f9f36",
   "metadata": {},
   "outputs": [
    {
     "name": "stdout",
     "output_type": "stream",
     "text": [
      "5\n",
      "5\n",
      "10\n"
     ]
    }
   ],
   "source": [
    "def test():\n",
    "    a = 5  #Variable que solo eciste dentro de la funcion\n",
    "    print(a)\n",
    "test()\n",
    "\n",
    "a = 10    #Variable eterna, no modificable.\n",
    "test()\n",
    "print(a)"
   ]
  },
  {
   "cell_type": "markdown",
   "id": "a21e01bc",
   "metadata": {},
   "source": [
    "## La instruccion global.\n",
    "Para poder modificar una variable externa en la funcion, se debe indicar que es global de la siguiente forma:"
   ]
  },
  {
   "cell_type": "code",
   "execution_count": 13,
   "id": "6126a8fe",
   "metadata": {},
   "outputs": [
    {
     "name": "stdout",
     "output_type": "stream",
     "text": [
      "5\n",
      "5\n",
      "5\n"
     ]
    }
   ],
   "source": [
    "def test():\n",
    "    global a\n",
    "    a = 5\n",
    "    print(a)\n",
    "test()\n",
    "\n",
    "a = 10\n",
    "test()\n",
    "print (a)"
   ]
  },
  {
   "cell_type": "code",
   "execution_count": null,
   "id": "14616aa7",
   "metadata": {},
   "outputs": [],
   "source": []
  }
 ],
 "metadata": {
  "kernelspec": {
   "display_name": "Python 3 (ipykernel)",
   "language": "python",
   "name": "python3"
  },
  "language_info": {
   "codemirror_mode": {
    "name": "ipython",
    "version": 3
   },
   "file_extension": ".py",
   "mimetype": "text/x-python",
   "name": "python",
   "nbconvert_exporter": "python",
   "pygments_lexer": "ipython3",
   "version": "3.9.16"
  }
 },
 "nbformat": 4,
 "nbformat_minor": 5
}
