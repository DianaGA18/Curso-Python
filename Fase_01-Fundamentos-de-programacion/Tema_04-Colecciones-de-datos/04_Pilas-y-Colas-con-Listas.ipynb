{
 "cells": [
  {
   "cell_type": "markdown",
   "id": "d9b46ee6",
   "metadata": {},
   "source": [
    "# Las Pilas\n",
    "Son colecciones de elementos ordenados que unicamente permiten 2 acciones:\n",
    "- Añadir un elemento a la Pila.\n",
    "- Extraer un elemento de la Pila.\n",
    "\n",
    "La peculiaridad es que el ultimo elemento en entrar es el primero en salir. Esto viene de las siglas en ingles *LIFO (Last In First Out) que es una estructura de datos.\n",
    "\n",
    "#### Se pueden crear como listas normales y añadir elementos al final con el append()."
   ]
  },
  {
   "cell_type": "code",
   "execution_count": 1,
   "id": "97f645ca",
   "metadata": {},
   "outputs": [],
   "source": [
    "pila = [3,4,5]"
   ]
  },
  {
   "cell_type": "code",
   "execution_count": 2,
   "id": "875bc7f1",
   "metadata": {},
   "outputs": [],
   "source": [
    "pila.append(6)"
   ]
  },
  {
   "cell_type": "code",
   "execution_count": 3,
   "id": "964e5f1d",
   "metadata": {},
   "outputs": [],
   "source": [
    "pila.append(7)"
   ]
  },
  {
   "cell_type": "code",
   "execution_count": 4,
   "id": "bd3854d3",
   "metadata": {},
   "outputs": [
    {
     "data": {
      "text/plain": [
       "[3, 4, 5, 6, 7]"
      ]
     },
     "execution_count": 4,
     "metadata": {},
     "output_type": "execute_result"
    }
   ],
   "source": [
    "pila"
   ]
  },
  {
   "cell_type": "markdown",
   "id": "a484a9f9",
   "metadata": {},
   "source": [
    "### Para extraer los elementos se utilizara el metodo .pop():\n",
    "Al utilizar pop(), devuelve el ultimo elemento, pero tambien lo borra si se quiere trabajar con el, se deberia asignar a una variable o de lo contrario se perdera."
   ]
  },
  {
   "cell_type": "code",
   "execution_count": 5,
   "id": "f2cccbf2",
   "metadata": {},
   "outputs": [
    {
     "data": {
      "text/plain": [
       "7"
      ]
     },
     "execution_count": 5,
     "metadata": {},
     "output_type": "execute_result"
    }
   ],
   "source": [
    "pila.pop()"
   ]
  },
  {
   "cell_type": "code",
   "execution_count": 6,
   "id": "539b1909",
   "metadata": {},
   "outputs": [
    {
     "data": {
      "text/plain": [
       "[3, 4, 5, 6]"
      ]
     },
     "execution_count": 6,
     "metadata": {},
     "output_type": "execute_result"
    }
   ],
   "source": [
    "pila"
   ]
  },
  {
   "cell_type": "code",
   "execution_count": 7,
   "id": "b6315732",
   "metadata": {},
   "outputs": [],
   "source": [
    "n = pila.pop()"
   ]
  },
  {
   "cell_type": "code",
   "execution_count": 8,
   "id": "85b943f4",
   "metadata": {},
   "outputs": [
    {
     "data": {
      "text/plain": [
       "[3, 4, 5]"
      ]
     },
     "execution_count": 8,
     "metadata": {},
     "output_type": "execute_result"
    }
   ],
   "source": [
    "pila\n"
   ]
  },
  {
   "cell_type": "code",
   "execution_count": 9,
   "id": "b91aa760",
   "metadata": {},
   "outputs": [
    {
     "data": {
      "text/plain": [
       "6"
      ]
     },
     "execution_count": 9,
     "metadata": {},
     "output_type": "execute_result"
    }
   ],
   "source": [
    "n"
   ]
  },
  {
   "cell_type": "code",
   "execution_count": 10,
   "id": "ca63da61",
   "metadata": {},
   "outputs": [
    {
     "data": {
      "text/plain": [
       "3"
      ]
     },
     "execution_count": 10,
     "metadata": {},
     "output_type": "execute_result"
    }
   ],
   "source": [
    "pila.pop()\n",
    "pila.pop()\n",
    "pila.pop()"
   ]
  },
  {
   "cell_type": "code",
   "execution_count": 11,
   "id": "4af11052",
   "metadata": {},
   "outputs": [
    {
     "data": {
      "text/plain": [
       "[]"
      ]
     },
     "execution_count": 11,
     "metadata": {},
     "output_type": "execute_result"
    }
   ],
   "source": [
    "pila"
   ]
  },
  {
   "cell_type": "markdown",
   "id": "b9f77d67",
   "metadata": {},
   "source": [
    "#### Si se hace un pop() de una pila vacia, devolvera un error:\n",
    "Es necesario asegurarse que la funcion len() de la pila sea mayor a 0 antes de extraer un elemento automaticamente."
   ]
  },
  {
   "cell_type": "code",
   "execution_count": 12,
   "id": "75276b5f",
   "metadata": {},
   "outputs": [
    {
     "ename": "IndexError",
     "evalue": "pop from empty list",
     "output_type": "error",
     "traceback": [
      "\u001b[1;31m---------------------------------------------------------------------------\u001b[0m",
      "\u001b[1;31mIndexError\u001b[0m                                Traceback (most recent call last)",
      "Cell \u001b[1;32mIn[12], line 1\u001b[0m\n\u001b[1;32m----> 1\u001b[0m \u001b[43mpila\u001b[49m\u001b[38;5;241;43m.\u001b[39;49m\u001b[43mpop\u001b[49m\u001b[43m(\u001b[49m\u001b[43m)\u001b[49m\n",
      "\u001b[1;31mIndexError\u001b[0m: pop from empty list"
     ]
    }
   ],
   "source": [
    "pila.pop()"
   ]
  },
  {
   "cell_type": "markdown",
   "id": "19997114",
   "metadata": {},
   "source": [
    "# Las Colas\n",
    "Son colecicones de elementos ordenados que unicamente permiten dos acciones:\n",
    "    - Añadir un elemento de la cola.\n",
    "    - Extraer un elemento de la cola.\n",
    "La peculiaridad es que el ultimo elemento en entrar es el primero en salir. Esto viene de las siglas en ingles **FIFO** (First In First Out) que es una estructura de datos.\n",
    "\n",
    "### Se debe importar la coleccion **deque** manualmente para crear una cola:"
   ]
  },
  {
   "cell_type": "code",
   "execution_count": 13,
   "id": "f9a565f8",
   "metadata": {},
   "outputs": [],
   "source": [
    "from collections import deque"
   ]
  },
  {
   "cell_type": "code",
   "execution_count": 14,
   "id": "19ca7059",
   "metadata": {},
   "outputs": [],
   "source": [
    "cola = deque()"
   ]
  },
  {
   "cell_type": "code",
   "execution_count": 15,
   "id": "ab406395",
   "metadata": {},
   "outputs": [
    {
     "data": {
      "text/plain": [
       "deque([])"
      ]
     },
     "execution_count": 15,
     "metadata": {},
     "output_type": "execute_result"
    }
   ],
   "source": [
    "cola"
   ]
  },
  {
   "cell_type": "markdown",
   "id": "ce2a6450",
   "metadata": {},
   "source": [
    "#### Es posible añadir elementos directamente pasando a una lista a la cola creada:"
   ]
  },
  {
   "cell_type": "code",
   "execution_count": 16,
   "id": "3c7bda27",
   "metadata": {},
   "outputs": [],
   "source": [
    "cola = deque(['Luis','Lupita','Alexis'])"
   ]
  },
  {
   "cell_type": "markdown",
   "id": "4f56537d",
   "metadata": {},
   "source": [
    "#### Y tambien es posible utilizar el metodo .append():"
   ]
  },
  {
   "cell_type": "code",
   "execution_count": 17,
   "id": "29e6234c",
   "metadata": {},
   "outputs": [],
   "source": [
    "cola.append('Christian')"
   ]
  },
  {
   "cell_type": "code",
   "execution_count": 18,
   "id": "864777ae",
   "metadata": {},
   "outputs": [
    {
     "data": {
      "text/plain": [
       "deque(['Luis', 'Lupita', 'Alexis', 'Christian'])"
      ]
     },
     "execution_count": 18,
     "metadata": {},
     "output_type": "execute_result"
    }
   ],
   "source": [
    "cola"
   ]
  },
  {
   "cell_type": "code",
   "execution_count": 19,
   "id": "18821bdf",
   "metadata": {},
   "outputs": [],
   "source": [
    "cola.append('Alexander')"
   ]
  },
  {
   "cell_type": "code",
   "execution_count": 20,
   "id": "a8279a64",
   "metadata": {},
   "outputs": [
    {
     "data": {
      "text/plain": [
       "deque(['Luis', 'Lupita', 'Alexis', 'Christian', 'Alexander'])"
      ]
     },
     "execution_count": 20,
     "metadata": {},
     "output_type": "execute_result"
    }
   ],
   "source": [
    "cola"
   ]
  },
  {
   "cell_type": "markdown",
   "id": "f2bae94c",
   "metadata": {},
   "source": [
    "## popleft() en lugar de pop()\n",
    "A la hora de extraer los elementos se utilizara el metodo popleft() para extraer por la parte izquierda (el principio de la cola). Al igual que antes, se debe asegurar de almacenar los elementos al extraerlos o se perderan."
   ]
  },
  {
   "cell_type": "code",
   "execution_count": 21,
   "id": "b86d55d5",
   "metadata": {},
   "outputs": [
    {
     "data": {
      "text/plain": [
       "'Luis'"
      ]
     },
     "execution_count": 21,
     "metadata": {},
     "output_type": "execute_result"
    }
   ],
   "source": [
    "cola.popleft()"
   ]
  },
  {
   "cell_type": "code",
   "execution_count": 22,
   "id": "3c93843b",
   "metadata": {},
   "outputs": [
    {
     "data": {
      "text/plain": [
       "deque(['Lupita', 'Alexis', 'Christian', 'Alexander'])"
      ]
     },
     "execution_count": 22,
     "metadata": {},
     "output_type": "execute_result"
    }
   ],
   "source": [
    "cola\n"
   ]
  },
  {
   "cell_type": "code",
   "execution_count": 23,
   "id": "7fdf0999",
   "metadata": {},
   "outputs": [],
   "source": [
    "p = cola.popleft()"
   ]
  },
  {
   "cell_type": "code",
   "execution_count": 24,
   "id": "f5837e49",
   "metadata": {},
   "outputs": [
    {
     "data": {
      "text/plain": [
       "'Lupita'"
      ]
     },
     "execution_count": 24,
     "metadata": {},
     "output_type": "execute_result"
    }
   ],
   "source": [
    "p"
   ]
  },
  {
   "cell_type": "code",
   "execution_count": 25,
   "id": "acd90b3d",
   "metadata": {},
   "outputs": [
    {
     "data": {
      "text/plain": [
       "deque(['Alexis', 'Christian', 'Alexander'])"
      ]
     },
     "execution_count": 25,
     "metadata": {},
     "output_type": "execute_result"
    }
   ],
   "source": [
    "cola"
   ]
  },
  {
   "cell_type": "code",
   "execution_count": 26,
   "id": "2a65ee66",
   "metadata": {},
   "outputs": [
    {
     "data": {
      "text/plain": [
       "'Lupita'"
      ]
     },
     "execution_count": 26,
     "metadata": {},
     "output_type": "execute_result"
    }
   ],
   "source": [
    "p"
   ]
  },
  {
   "cell_type": "code",
   "execution_count": null,
   "id": "35fe07d0",
   "metadata": {},
   "outputs": [],
   "source": []
  }
 ],
 "metadata": {
  "kernelspec": {
   "display_name": "Python 3 (ipykernel)",
   "language": "python",
   "name": "python3"
  },
  "language_info": {
   "codemirror_mode": {
    "name": "ipython",
    "version": 3
   },
   "file_extension": ".py",
   "mimetype": "text/x-python",
   "name": "python",
   "nbconvert_exporter": "python",
   "pygments_lexer": "ipython3",
   "version": "3.9.16"
  }
 },
 "nbformat": 4,
 "nbformat_minor": 5
}
