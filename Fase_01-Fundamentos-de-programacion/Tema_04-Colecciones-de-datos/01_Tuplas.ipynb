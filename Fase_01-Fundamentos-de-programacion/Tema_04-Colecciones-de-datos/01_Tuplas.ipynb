{
 "cells": [
  {
   "cell_type": "markdown",
   "id": "85d84f20",
   "metadata": {},
   "source": [
    "# Las Tuplas\n",
    "So colecciones parecidas a las listas, con la peculiaridad de que son inmutables"
   ]
  },
  {
   "cell_type": "code",
   "execution_count": 7,
   "id": "df47c3e7",
   "metadata": {},
   "outputs": [],
   "source": [
    "tupla = (100, \"Hola\", [1,2,3,4], -50)"
   ]
  },
  {
   "cell_type": "code",
   "execution_count": 8,
   "id": "53543432",
   "metadata": {},
   "outputs": [
    {
     "data": {
      "text/plain": [
       "(100, 'Hola', [1, 2, 3, 4], -50)"
      ]
     },
     "execution_count": 8,
     "metadata": {},
     "output_type": "execute_result"
    }
   ],
   "source": [
    "tupla"
   ]
  },
  {
   "cell_type": "markdown",
   "id": "f6cc4380",
   "metadata": {},
   "source": [
    "### Indexacion y Slicing"
   ]
  },
  {
   "cell_type": "code",
   "execution_count": 9,
   "id": "6fbdb6b1",
   "metadata": {},
   "outputs": [
    {
     "data": {
      "text/plain": [
       "100"
      ]
     },
     "execution_count": 9,
     "metadata": {},
     "output_type": "execute_result"
    }
   ],
   "source": [
    "tupla[0]"
   ]
  },
  {
   "cell_type": "code",
   "execution_count": 10,
   "id": "a27b3623",
   "metadata": {},
   "outputs": [
    {
     "data": {
      "text/plain": [
       "-50"
      ]
     },
     "execution_count": 10,
     "metadata": {},
     "output_type": "execute_result"
    }
   ],
   "source": [
    "tupla[-1]"
   ]
  },
  {
   "cell_type": "code",
   "execution_count": 11,
   "id": "d2d45ad6",
   "metadata": {},
   "outputs": [
    {
     "data": {
      "text/plain": [
       "([1, 2, 3, 4], -50)"
      ]
     },
     "execution_count": 11,
     "metadata": {},
     "output_type": "execute_result"
    }
   ],
   "source": [
    "tupla[2:]"
   ]
  },
  {
   "cell_type": "code",
   "execution_count": 12,
   "id": "60fc44a2",
   "metadata": {},
   "outputs": [
    {
     "data": {
      "text/plain": [
       "4"
      ]
     },
     "execution_count": 12,
     "metadata": {},
     "output_type": "execute_result"
    }
   ],
   "source": [
    "tupla[2][-1]"
   ]
  },
  {
   "cell_type": "markdown",
   "id": "aeff1a3a",
   "metadata": {},
   "source": [
    " ## Inmutabilidad"
   ]
  },
  {
   "cell_type": "code",
   "execution_count": 14,
   "id": "d91a1b17",
   "metadata": {},
   "outputs": [
    {
     "ename": "TypeError",
     "evalue": "'tuple' object does not support item assignment",
     "output_type": "error",
     "traceback": [
      "\u001b[1;31m---------------------------------------------------------------------------\u001b[0m",
      "\u001b[1;31mTypeError\u001b[0m                                 Traceback (most recent call last)",
      "Cell \u001b[1;32mIn[14], line 1\u001b[0m\n\u001b[1;32m----> 1\u001b[0m tupla[\u001b[38;5;241m0\u001b[39m] \u001b[38;5;241m=\u001b[39m \u001b[38;5;241m50\u001b[39m\n",
      "\u001b[1;31mTypeError\u001b[0m: 'tuple' object does not support item assignment"
     ]
    }
   ],
   "source": [
    "tupla[0] = 50"
   ]
  },
  {
   "cell_type": "markdown",
   "id": "509fbccc",
   "metadata": {},
   "source": [
    "## Funcion len()\n"
   ]
  },
  {
   "cell_type": "code",
   "execution_count": 15,
   "id": "cd17a40c",
   "metadata": {},
   "outputs": [
    {
     "data": {
      "text/plain": [
       "4"
      ]
     },
     "execution_count": 15,
     "metadata": {},
     "output_type": "execute_result"
    }
   ],
   "source": [
    "len(tupla)"
   ]
  },
  {
   "cell_type": "code",
   "execution_count": 16,
   "id": "880a7387",
   "metadata": {},
   "outputs": [
    {
     "data": {
      "text/plain": [
       "4"
      ]
     },
     "execution_count": 16,
     "metadata": {},
     "output_type": "execute_result"
    }
   ],
   "source": [
    "len(tupla[2])"
   ]
  },
  {
   "cell_type": "markdown",
   "id": "13dd5159",
   "metadata": {},
   "source": [
    "## Metodos integrados\n",
    "\n",
    "### index()\n",
    "Sirve para buscar un elemento y saber su posicion en la tupla. (Se obtiene un error si no se encuentra)."
   ]
  },
  {
   "cell_type": "code",
   "execution_count": 17,
   "id": "c8603e45",
   "metadata": {},
   "outputs": [
    {
     "data": {
      "text/plain": [
       "0"
      ]
     },
     "execution_count": 17,
     "metadata": {},
     "output_type": "execute_result"
    }
   ],
   "source": [
    "tupla.index(100)"
   ]
  },
  {
   "cell_type": "code",
   "execution_count": 18,
   "id": "3fc577b2",
   "metadata": {},
   "outputs": [
    {
     "data": {
      "text/plain": [
       "(100, 'Hola', [1, 2, 3, 4], -50)"
      ]
     },
     "execution_count": 18,
     "metadata": {},
     "output_type": "execute_result"
    }
   ],
   "source": [
    "tupla"
   ]
  },
  {
   "cell_type": "code",
   "execution_count": 19,
   "id": "27234470",
   "metadata": {},
   "outputs": [
    {
     "data": {
      "text/plain": [
       "1"
      ]
     },
     "execution_count": 19,
     "metadata": {},
     "output_type": "execute_result"
    }
   ],
   "source": [
    "tupla.index('Hola')"
   ]
  },
  {
   "cell_type": "code",
   "execution_count": 20,
   "id": "160ac114",
   "metadata": {},
   "outputs": [
    {
     "ename": "ValueError",
     "evalue": "tuple.index(x): x not in tuple",
     "output_type": "error",
     "traceback": [
      "\u001b[1;31m---------------------------------------------------------------------------\u001b[0m",
      "\u001b[1;31mValueError\u001b[0m                                Traceback (most recent call last)",
      "Cell \u001b[1;32mIn[20], line 1\u001b[0m\n\u001b[1;32m----> 1\u001b[0m \u001b[43mtupla\u001b[49m\u001b[38;5;241;43m.\u001b[39;49m\u001b[43mindex\u001b[49m\u001b[43m(\u001b[49m\u001b[38;5;124;43m'\u001b[39;49m\u001b[38;5;124;43mOtro\u001b[39;49m\u001b[38;5;124;43m'\u001b[39;49m\u001b[43m)\u001b[49m\n",
      "\u001b[1;31mValueError\u001b[0m: tuple.index(x): x not in tuple"
     ]
    }
   ],
   "source": [
    "tupla.index('Otro')"
   ]
  },
  {
   "cell_type": "markdown",
   "id": "87f55dd8",
   "metadata": {},
   "source": [
    "## count()\n",
    "Sirve para contar cuantas veces aparece un elemento en la tupla."
   ]
  },
  {
   "cell_type": "code",
   "execution_count": 22,
   "id": "d6efd071",
   "metadata": {},
   "outputs": [
    {
     "data": {
      "text/plain": [
       "1"
      ]
     },
     "execution_count": 22,
     "metadata": {},
     "output_type": "execute_result"
    }
   ],
   "source": [
    "tupla.count(100)"
   ]
  },
  {
   "cell_type": "code",
   "execution_count": 23,
   "id": "2a23004a",
   "metadata": {},
   "outputs": [
    {
     "data": {
      "text/plain": [
       "0"
      ]
     },
     "execution_count": 23,
     "metadata": {},
     "output_type": "execute_result"
    }
   ],
   "source": [
    "tupla.count('Algo')"
   ]
  },
  {
   "cell_type": "code",
   "execution_count": 24,
   "id": "2b4d9ac6",
   "metadata": {},
   "outputs": [],
   "source": [
    "tupla = (100,100,100,50,10)"
   ]
  },
  {
   "cell_type": "code",
   "execution_count": 25,
   "id": "adbc6685",
   "metadata": {},
   "outputs": [
    {
     "data": {
      "text/plain": [
       "3"
      ]
     },
     "execution_count": 25,
     "metadata": {},
     "output_type": "execute_result"
    }
   ],
   "source": [
    "tupla.count(100)"
   ]
  },
  {
   "cell_type": "markdown",
   "id": "5b4bdd5c",
   "metadata": {},
   "source": [
    "### append() ??\n",
    "Al ser inmutables, las tuplas __no disponen__ de metodos para modificar su contenido.\n"
   ]
  },
  {
   "cell_type": "code",
   "execution_count": 26,
   "id": "3f318212",
   "metadata": {},
   "outputs": [
    {
     "ename": "AttributeError",
     "evalue": "'tuple' object has no attribute 'append'",
     "output_type": "error",
     "traceback": [
      "\u001b[1;31m---------------------------------------------------------------------------\u001b[0m",
      "\u001b[1;31mAttributeError\u001b[0m                            Traceback (most recent call last)",
      "Cell \u001b[1;32mIn[26], line 1\u001b[0m\n\u001b[1;32m----> 1\u001b[0m \u001b[43mtupla\u001b[49m\u001b[38;5;241;43m.\u001b[39;49m\u001b[43mappend\u001b[49m(\u001b[38;5;241m10\u001b[39m)\n",
      "\u001b[1;31mAttributeError\u001b[0m: 'tuple' object has no attribute 'append'"
     ]
    }
   ],
   "source": [
    "tupla.append(10)"
   ]
  },
  {
   "cell_type": "code",
   "execution_count": null,
   "id": "1cec4022",
   "metadata": {},
   "outputs": [],
   "source": []
  }
 ],
 "metadata": {
  "kernelspec": {
   "display_name": "Python 3 (ipykernel)",
   "language": "python",
   "name": "python3"
  },
  "language_info": {
   "codemirror_mode": {
    "name": "ipython",
    "version": 3
   },
   "file_extension": ".py",
   "mimetype": "text/x-python",
   "name": "python",
   "nbconvert_exporter": "python",
   "pygments_lexer": "ipython3",
   "version": "3.9.16"
  }
 },
 "nbformat": 4,
 "nbformat_minor": 5
}
