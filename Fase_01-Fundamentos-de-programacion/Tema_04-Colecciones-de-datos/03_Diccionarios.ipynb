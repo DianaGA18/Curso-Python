{
 "cells": [
  {
   "cell_type": "markdown",
   "id": "81b23725",
   "metadata": {},
   "source": [
    "## Los Diccionarios\n",
    "Son junto a las listas, las colecciones mas utilizadas. Se basa en una estructura mapeada donde cada elemento de la coleccion se encuentra identificado por una clave unica. Por lo tanto, no puede haber dos claves iguales. En otros lenguajes se conocen como arreglos asociativos."
   ]
  },
  {
   "cell_type": "code",
   "execution_count": 1,
   "id": "dff2b11c",
   "metadata": {},
   "outputs": [],
   "source": [
    "Vacio = {}"
   ]
  },
  {
   "cell_type": "code",
   "execution_count": 2,
   "id": "31f636bf",
   "metadata": {},
   "outputs": [
    {
     "data": {
      "text/plain": [
       "{}"
      ]
     },
     "execution_count": 2,
     "metadata": {},
     "output_type": "execute_result"
    }
   ],
   "source": [
    "Vacio"
   ]
  },
  {
   "cell_type": "markdown",
   "id": "6873e054",
   "metadata": {},
   "source": [
    "## Tipo de una variable"
   ]
  },
  {
   "cell_type": "code",
   "execution_count": 3,
   "id": "55549b89",
   "metadata": {},
   "outputs": [
    {
     "data": {
      "text/plain": [
       "dict"
      ]
     },
     "execution_count": 3,
     "metadata": {},
     "output_type": "execute_result"
    }
   ],
   "source": [
    "type(Vacio)"
   ]
  },
  {
   "cell_type": "markdown",
   "id": "6fdcee37",
   "metadata": {},
   "source": [
    "## Definicion\n",
    "### Para cada elemento se define la estructura -> clave:valor"
   ]
  },
  {
   "cell_type": "code",
   "execution_count": 4,
   "id": "65e3848c",
   "metadata": {},
   "outputs": [],
   "source": [
    "Colores = {'Amarillo':'Yellow', 'Azul':'Blue'}"
   ]
  },
  {
   "cell_type": "code",
   "execution_count": 5,
   "id": "82e99f5a",
   "metadata": {},
   "outputs": [
    {
     "data": {
      "text/plain": [
       "{'Amarillo': 'Yellow', 'Azul': 'Blue'}"
      ]
     },
     "execution_count": 5,
     "metadata": {},
     "output_type": "execute_result"
    }
   ],
   "source": [
    "Colores"
   ]
  },
  {
   "cell_type": "markdown",
   "id": "e6eb788d",
   "metadata": {},
   "source": [
    "### Tambien se puede añadir elementos sobre la ejecucion"
   ]
  },
  {
   "cell_type": "code",
   "execution_count": 6,
   "id": "554f7d6b",
   "metadata": {},
   "outputs": [],
   "source": [
    "Colores['Verde'] = 'Green'"
   ]
  },
  {
   "cell_type": "code",
   "execution_count": 7,
   "id": "c57131b4",
   "metadata": {},
   "outputs": [
    {
     "data": {
      "text/plain": [
       "{'Amarillo': 'Yellow', 'Azul': 'Blue', 'Verde': 'Green'}"
      ]
     },
     "execution_count": 7,
     "metadata": {},
     "output_type": "execute_result"
    }
   ],
   "source": [
    "Colores"
   ]
  },
  {
   "cell_type": "code",
   "execution_count": 8,
   "id": "bf14154e",
   "metadata": {},
   "outputs": [
    {
     "data": {
      "text/plain": [
       "'Blue'"
      ]
     },
     "execution_count": 8,
     "metadata": {},
     "output_type": "execute_result"
    }
   ],
   "source": [
    "Colores['Azul']"
   ]
  },
  {
   "cell_type": "code",
   "execution_count": 9,
   "id": "bd321233",
   "metadata": {},
   "outputs": [
    {
     "data": {
      "text/plain": [
       "'Yellow'"
      ]
     },
     "execution_count": 9,
     "metadata": {},
     "output_type": "execute_result"
    }
   ],
   "source": [
    "Colores['Amarillo']"
   ]
  },
  {
   "cell_type": "markdown",
   "id": "ad4cb8e1",
   "metadata": {},
   "source": [
    "### Las claves tambien pueden ser numeros, pero son un poco confusas."
   ]
  },
  {
   "cell_type": "code",
   "execution_count": 10,
   "id": "a6eacb9b",
   "metadata": {},
   "outputs": [],
   "source": [
    "Numeros = {10:'Diez', 20:'Veinte'}"
   ]
  },
  {
   "cell_type": "code",
   "execution_count": 11,
   "id": "5fe3896e",
   "metadata": {},
   "outputs": [
    {
     "data": {
      "text/plain": [
       "'Diez'"
      ]
     },
     "execution_count": 11,
     "metadata": {},
     "output_type": "execute_result"
    }
   ],
   "source": [
    "Numeros[10]"
   ]
  },
  {
   "cell_type": "markdown",
   "id": "577354bd",
   "metadata": {},
   "source": [
    "## Modificacion del valor a partir de la clave"
   ]
  },
  {
   "cell_type": "code",
   "execution_count": 12,
   "id": "f4a8d902",
   "metadata": {},
   "outputs": [],
   "source": [
    "Colores['Amarillo'] = 'White'"
   ]
  },
  {
   "cell_type": "code",
   "execution_count": 13,
   "id": "1ed92404",
   "metadata": {},
   "outputs": [
    {
     "data": {
      "text/plain": [
       "{'Amarillo': 'White', 'Azul': 'Blue', 'Verde': 'Green'}"
      ]
     },
     "execution_count": 13,
     "metadata": {},
     "output_type": "execute_result"
    }
   ],
   "source": [
    "Colores"
   ]
  },
  {
   "cell_type": "markdown",
   "id": "2c9ef300",
   "metadata": {},
   "source": [
    "### Funcion del()\n",
    "Sirve para eliminar un elemento de nuestro diccionario."
   ]
  },
  {
   "cell_type": "code",
   "execution_count": 14,
   "id": "5c62b85f",
   "metadata": {},
   "outputs": [],
   "source": [
    "del(Colores['Amarillo'])"
   ]
  },
  {
   "cell_type": "code",
   "execution_count": 15,
   "id": "d5f12518",
   "metadata": {},
   "outputs": [
    {
     "data": {
      "text/plain": [
       "{'Azul': 'Blue', 'Verde': 'Green'}"
      ]
     },
     "execution_count": 15,
     "metadata": {},
     "output_type": "execute_result"
    }
   ],
   "source": [
    "Colores"
   ]
  },
  {
   "cell_type": "markdown",
   "id": "555d5c94",
   "metadata": {},
   "source": [
    "### Trabajando directamente con registros."
   ]
  },
  {
   "cell_type": "code",
   "execution_count": 16,
   "id": "88e0372b",
   "metadata": {},
   "outputs": [],
   "source": [
    "Edades = {'Luis':21, 'Itan':20, 'David':22}"
   ]
  },
  {
   "cell_type": "code",
   "execution_count": 17,
   "id": "bd841d82",
   "metadata": {},
   "outputs": [
    {
     "data": {
      "text/plain": [
       "{'Luis': 21, 'Itan': 20, 'David': 22}"
      ]
     },
     "execution_count": 17,
     "metadata": {},
     "output_type": "execute_result"
    }
   ],
   "source": [
    "Edades"
   ]
  },
  {
   "cell_type": "code",
   "execution_count": 18,
   "id": "7e56ba71",
   "metadata": {},
   "outputs": [
    {
     "data": {
      "text/plain": [
       "{'Luis': 22, 'Itan': 20, 'David': 22}"
      ]
     },
     "execution_count": 18,
     "metadata": {},
     "output_type": "execute_result"
    }
   ],
   "source": [
    "Edades['Luis']+=1\n",
    "Edades"
   ]
  },
  {
   "cell_type": "code",
   "execution_count": 19,
   "id": "11d0e210",
   "metadata": {},
   "outputs": [
    {
     "data": {
      "text/plain": [
       "42"
      ]
     },
     "execution_count": 19,
     "metadata": {},
     "output_type": "execute_result"
    }
   ],
   "source": [
    "Edades['Itan'] + Edades['David']"
   ]
  },
  {
   "cell_type": "markdown",
   "id": "b8078cb9",
   "metadata": {},
   "source": [
    "## Lectura secuencial con for ... in...\n",
    "Es posible utilizar una iteracion para recorrer los elementos del diccionario:"
   ]
  },
  {
   "cell_type": "code",
   "execution_count": 20,
   "id": "9812224d",
   "metadata": {},
   "outputs": [
    {
     "name": "stdout",
     "output_type": "stream",
     "text": [
      "Luis\n",
      "Itan\n",
      "David\n"
     ]
    }
   ],
   "source": [
    "for Edad in Edades:\n",
    "    print(Edad)"
   ]
  },
  {
   "cell_type": "markdown",
   "id": "c2ca5a61",
   "metadata": {},
   "source": [
    "### El problema es que se devuelven las claves, no los valores\n",
    "Para seleccionarlos se deberia indicar la clave del diccionario para cada elemento."
   ]
  },
  {
   "cell_type": "code",
   "execution_count": 21,
   "id": "78b675ee",
   "metadata": {},
   "outputs": [
    {
     "name": "stdout",
     "output_type": "stream",
     "text": [
      "22\n",
      "20\n",
      "22\n"
     ]
    }
   ],
   "source": [
    "for Clave in Edades:\n",
    "    print(Edades[Clave])"
   ]
  },
  {
   "cell_type": "code",
   "execution_count": 22,
   "id": "40d63b6c",
   "metadata": {},
   "outputs": [
    {
     "name": "stdout",
     "output_type": "stream",
     "text": [
      "Luis 22\n",
      "Itan 20\n",
      "David 22\n"
     ]
    }
   ],
   "source": [
    "for Clave in Edades:\n",
    "    print(Clave, Edades[Clave])"
   ]
  },
  {
   "cell_type": "markdown",
   "id": "3c07fdec",
   "metadata": {},
   "source": [
    "### El metodo .items()\n",
    "Facilita la lectura en clave y el valor de los elementos porque devuelve ambos valores, en cada iteracion automaticamente:"
   ]
  },
  {
   "cell_type": "code",
   "execution_count": 23,
   "id": "90c4a8bf",
   "metadata": {},
   "outputs": [
    {
     "name": "stdout",
     "output_type": "stream",
     "text": [
      "Luis 22\n",
      "Itan 20\n",
      "David 22\n"
     ]
    }
   ],
   "source": [
    "for c,v in Edades.items():\n",
    "    print(c,v)"
   ]
  },
  {
   "cell_type": "markdown",
   "id": "8b002cf1",
   "metadata": {},
   "source": [
    "# Ejemplo utilizando diccionarios y listas a la vez.\n",
    "Es posible crear estructuras avanzadas, mezclando ambas colecciones. Mientras que los diccionarios se encargarian de manejar las propiedades individuales de los registros, las listas no permitirian manejarlas todas en conjunto."
   ]
  },
  {
   "cell_type": "code",
   "execution_count": 24,
   "id": "420904f8",
   "metadata": {},
   "outputs": [],
   "source": [
    "Personajes = []"
   ]
  },
  {
   "cell_type": "code",
   "execution_count": 25,
   "id": "bad0f376",
   "metadata": {},
   "outputs": [],
   "source": [
    "P = {'Nombre':'Chavo', 'Clase':'Caricatura','Raza':'Humano'}"
   ]
  },
  {
   "cell_type": "code",
   "execution_count": 26,
   "id": "749211b2",
   "metadata": {},
   "outputs": [],
   "source": [
    "Personajes.append(P)"
   ]
  },
  {
   "cell_type": "code",
   "execution_count": 27,
   "id": "02f01ed7",
   "metadata": {},
   "outputs": [
    {
     "data": {
      "text/plain": [
       "[{'Nombre': 'Chavo', 'Clase': 'Caricatura', 'Raza': 'Humano'}]"
      ]
     },
     "execution_count": 27,
     "metadata": {},
     "output_type": "execute_result"
    }
   ],
   "source": [
    "Personajes"
   ]
  },
  {
   "cell_type": "code",
   "execution_count": 28,
   "id": "9729cf0f",
   "metadata": {},
   "outputs": [
    {
     "data": {
      "text/plain": [
       "list"
      ]
     },
     "execution_count": 28,
     "metadata": {},
     "output_type": "execute_result"
    }
   ],
   "source": [
    "type(Personajes)"
   ]
  },
  {
   "cell_type": "code",
   "execution_count": 29,
   "id": "5623bb2c",
   "metadata": {},
   "outputs": [],
   "source": [
    "Personajes.append(P)"
   ]
  },
  {
   "cell_type": "code",
   "execution_count": 30,
   "id": "27c16c7e",
   "metadata": {},
   "outputs": [],
   "source": [
    "P = {'Nombre':'Bob Esponja', 'Clase':'Caricatura', 'Raza':'Esponja de Mar'}"
   ]
  },
  {
   "cell_type": "code",
   "execution_count": 31,
   "id": "e1fe5093",
   "metadata": {},
   "outputs": [],
   "source": [
    "Personajes.append(P)"
   ]
  },
  {
   "cell_type": "code",
   "execution_count": 32,
   "id": "fd4cde4c",
   "metadata": {},
   "outputs": [
    {
     "data": {
      "text/plain": [
       "[{'Nombre': 'Chavo', 'Clase': 'Caricatura', 'Raza': 'Humano'},\n",
       " {'Nombre': 'Chavo', 'Clase': 'Caricatura', 'Raza': 'Humano'},\n",
       " {'Nombre': 'Bob Esponja', 'Clase': 'Caricatura', 'Raza': 'Esponja de Mar'}]"
      ]
     },
     "execution_count": 32,
     "metadata": {},
     "output_type": "execute_result"
    }
   ],
   "source": [
    "Personajes"
   ]
  },
  {
   "cell_type": "code",
   "execution_count": 34,
   "id": "c4770aa4",
   "metadata": {},
   "outputs": [
    {
     "name": "stdout",
     "output_type": "stream",
     "text": [
      "Chavo Caricatura Humano\n",
      "Chavo Caricatura Humano\n",
      "Bob Esponja Caricatura Esponja de Mar\n"
     ]
    }
   ],
   "source": [
    "for P in Personajes:\n",
    "    print(P['Nombre'],P['Clase'],P['Raza'])"
   ]
  },
  {
   "cell_type": "code",
   "execution_count": null,
   "id": "29041e4c",
   "metadata": {},
   "outputs": [],
   "source": []
  }
 ],
 "metadata": {
  "kernelspec": {
   "display_name": "Python 3 (ipykernel)",
   "language": "python",
   "name": "python3"
  },
  "language_info": {
   "codemirror_mode": {
    "name": "ipython",
    "version": 3
   },
   "file_extension": ".py",
   "mimetype": "text/x-python",
   "name": "python",
   "nbconvert_exporter": "python",
   "pygments_lexer": "ipython3",
   "version": "3.9.16"
  }
 },
 "nbformat": 4,
 "nbformat_minor": 5
}
