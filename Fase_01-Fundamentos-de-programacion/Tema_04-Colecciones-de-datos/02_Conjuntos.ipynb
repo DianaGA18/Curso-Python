{
 "cells": [
  {
   "cell_type": "markdown",
   "id": "bd9c97b5",
   "metadata": {},
   "source": [
    "# Los conjuntos\n",
    "Son colecciones desordenadas de elementos unicos utilizados para hacer pruebas de pertenencia a grupos y eliminacion de elementos duplicados."
   ]
  },
  {
   "cell_type": "code",
   "execution_count": 1,
   "id": "e4e0155d",
   "metadata": {},
   "outputs": [],
   "source": [
    "conjunto = set()"
   ]
  },
  {
   "cell_type": "code",
   "execution_count": 2,
   "id": "39e9a0b2",
   "metadata": {},
   "outputs": [
    {
     "data": {
      "text/plain": [
       "set()"
      ]
     },
     "execution_count": 2,
     "metadata": {},
     "output_type": "execute_result"
    }
   ],
   "source": [
    "conjunto"
   ]
  },
  {
   "cell_type": "code",
   "execution_count": 3,
   "id": "c3a88215",
   "metadata": {},
   "outputs": [],
   "source": [
    "conjunto = {1,2,3}"
   ]
  },
  {
   "cell_type": "code",
   "execution_count": 4,
   "id": "f2f26db9",
   "metadata": {},
   "outputs": [
    {
     "data": {
      "text/plain": [
       "{1, 2, 3}"
      ]
     },
     "execution_count": 4,
     "metadata": {},
     "output_type": "execute_result"
    }
   ],
   "source": [
    "conjunto"
   ]
  },
  {
   "cell_type": "markdown",
   "id": "c866ec42",
   "metadata": {},
   "source": [
    "## Metodo add()\n",
    "Sirve para añadir elementos al conjunto. Si un elemento ya se encuentra, no se añadira de nuevo."
   ]
  },
  {
   "cell_type": "code",
   "execution_count": 5,
   "id": "88c39360",
   "metadata": {},
   "outputs": [],
   "source": [
    "conjunto.add(4)"
   ]
  },
  {
   "cell_type": "code",
   "execution_count": 6,
   "id": "ed9d3923",
   "metadata": {},
   "outputs": [
    {
     "data": {
      "text/plain": [
       "{1, 2, 3, 4}"
      ]
     },
     "execution_count": 6,
     "metadata": {},
     "output_type": "execute_result"
    }
   ],
   "source": [
    "conjunto"
   ]
  },
  {
   "cell_type": "code",
   "execution_count": 7,
   "id": "9fc9462b",
   "metadata": {},
   "outputs": [],
   "source": [
    "conjunto.add(0)"
   ]
  },
  {
   "cell_type": "code",
   "execution_count": 8,
   "id": "497fd877",
   "metadata": {},
   "outputs": [
    {
     "data": {
      "text/plain": [
       "{0, 1, 2, 3, 4}"
      ]
     },
     "execution_count": 8,
     "metadata": {},
     "output_type": "execute_result"
    }
   ],
   "source": [
    "conjunto"
   ]
  },
  {
   "cell_type": "markdown",
   "id": "09934cbd",
   "metadata": {},
   "source": [
    "## Colecciones desordenadas\n",
    "Se dice que son desordenadas porque gestionan automaticamente la posicion de sus elementos, en lugar de conservarlos en la posicion que se le asigno."
   ]
  },
  {
   "cell_type": "code",
   "execution_count": 10,
   "id": "f4a95d84",
   "metadata": {},
   "outputs": [
    {
     "data": {
      "text/plain": [
       "{0, 1, 2, 3, 4, 'H'}"
      ]
     },
     "execution_count": 10,
     "metadata": {},
     "output_type": "execute_result"
    }
   ],
   "source": [
    "conjunto.add('H')\n",
    "conjunto"
   ]
  },
  {
   "cell_type": "code",
   "execution_count": 11,
   "id": "6732d6c4",
   "metadata": {},
   "outputs": [],
   "source": [
    "conjunto.add('A')"
   ]
  },
  {
   "cell_type": "code",
   "execution_count": 12,
   "id": "79106e05",
   "metadata": {},
   "outputs": [
    {
     "data": {
      "text/plain": [
       "{0, 1, 2, 3, 4, 'A', 'H'}"
      ]
     },
     "execution_count": 12,
     "metadata": {},
     "output_type": "execute_result"
    }
   ],
   "source": [
    "conjunto"
   ]
  },
  {
   "cell_type": "markdown",
   "id": "01be93ce",
   "metadata": {},
   "source": [
    "## Pertenencia a grupos con in"
   ]
  },
  {
   "cell_type": "code",
   "execution_count": 14,
   "id": "8236d1af",
   "metadata": {},
   "outputs": [],
   "source": [
    "grupo = {'Hector', 'Itan', 'Vane'}"
   ]
  },
  {
   "cell_type": "code",
   "execution_count": 15,
   "id": "6aa47046",
   "metadata": {},
   "outputs": [
    {
     "data": {
      "text/plain": [
       "True"
      ]
     },
     "execution_count": 15,
     "metadata": {},
     "output_type": "execute_result"
    }
   ],
   "source": [
    "'Hector' in grupo"
   ]
  },
  {
   "cell_type": "code",
   "execution_count": 16,
   "id": "6848a3fc",
   "metadata": {},
   "outputs": [
    {
     "data": {
      "text/plain": [
       "False"
      ]
     },
     "execution_count": 16,
     "metadata": {},
     "output_type": "execute_result"
    }
   ],
   "source": [
    "'Vane' not in grupo"
   ]
  },
  {
   "cell_type": "code",
   "execution_count": 17,
   "id": "9a64b7e2",
   "metadata": {},
   "outputs": [
    {
     "data": {
      "text/plain": [
       "False"
      ]
     },
     "execution_count": 17,
     "metadata": {},
     "output_type": "execute_result"
    }
   ],
   "source": [
    "'Vanessa' in grupo"
   ]
  },
  {
   "cell_type": "markdown",
   "id": "dc60db25",
   "metadata": {},
   "source": [
    "## Auto-eliminacion de elementos duplicados"
   ]
  },
  {
   "cell_type": "code",
   "execution_count": 18,
   "id": "982fdb4c",
   "metadata": {},
   "outputs": [],
   "source": [
    "Test = {'Luis', 'Luis', 'Luis'}"
   ]
  },
  {
   "cell_type": "code",
   "execution_count": 19,
   "id": "3932085d",
   "metadata": {},
   "outputs": [
    {
     "data": {
      "text/plain": [
       "{'Luis'}"
      ]
     },
     "execution_count": 19,
     "metadata": {},
     "output_type": "execute_result"
    }
   ],
   "source": [
    "Test"
   ]
  },
  {
   "cell_type": "markdown",
   "id": "aeaa6040",
   "metadata": {},
   "source": [
    "## Cast de lista a conjunto y viceversa\n",
    "Es muy util para transformar listas a conjuntos para borrar los elementos duplicados automaticamente."
   ]
  },
  {
   "cell_type": "code",
   "execution_count": 21,
   "id": "536a0d65",
   "metadata": {},
   "outputs": [
    {
     "data": {
      "text/plain": [
       "[1, 2, 3, 4, 5, 2, 1]"
      ]
     },
     "execution_count": 21,
     "metadata": {},
     "output_type": "execute_result"
    }
   ],
   "source": [
    "Lista = [1,2,3,4,5,2,1]\n",
    "Lista"
   ]
  },
  {
   "cell_type": "code",
   "execution_count": 22,
   "id": "2ab3c55e",
   "metadata": {},
   "outputs": [
    {
     "data": {
      "text/plain": [
       "{1, 2, 3, 4, 5}"
      ]
     },
     "execution_count": 22,
     "metadata": {},
     "output_type": "execute_result"
    }
   ],
   "source": [
    "Lista_Proo = set(Lista)\n",
    "Lista_Proo"
   ]
  },
  {
   "cell_type": "code",
   "execution_count": 23,
   "id": "524a3d8b",
   "metadata": {},
   "outputs": [],
   "source": [
    "Lista_02 = [1,2,3,3,2,2,2,1,4,5]"
   ]
  },
  {
   "cell_type": "code",
   "execution_count": 24,
   "id": "a673a700",
   "metadata": {},
   "outputs": [],
   "source": [
    "Lista_02 = list( set(Lista_02))"
   ]
  },
  {
   "cell_type": "code",
   "execution_count": 25,
   "id": "f3a67076",
   "metadata": {},
   "outputs": [
    {
     "data": {
      "text/plain": [
       "[1, 2, 3, 4, 5]"
      ]
     },
     "execution_count": 25,
     "metadata": {},
     "output_type": "execute_result"
    }
   ],
   "source": [
    "Lista_02"
   ]
  },
  {
   "cell_type": "markdown",
   "id": "164852d7",
   "metadata": {},
   "source": [
    "## Cast de cadena a un conjunto\n",
    "Sirve para crear un conjunto con todos los caracteres de la cadena."
   ]
  },
  {
   "cell_type": "code",
   "execution_count": 28,
   "id": "be95aa20",
   "metadata": {},
   "outputs": [
    {
     "data": {
      "text/plain": [
       "{' ',\n",
       " 'L',\n",
       " 'a',\n",
       " 'b',\n",
       " 'c',\n",
       " 'd',\n",
       " 'e',\n",
       " 'h',\n",
       " 'i',\n",
       " 'm',\n",
       " 'n',\n",
       " 'o',\n",
       " 'p',\n",
       " 'r',\n",
       " 's',\n",
       " 't',\n",
       " 'v'}"
      ]
     },
     "execution_count": 28,
     "metadata": {},
     "output_type": "execute_result"
    }
   ],
   "source": [
    "Cadena =\"Los chavos de sistemas son bien pro\"\n",
    "set(Cadena)"
   ]
  },
  {
   "cell_type": "code",
   "execution_count": null,
   "id": "b4192703",
   "metadata": {},
   "outputs": [],
   "source": []
  }
 ],
 "metadata": {
  "kernelspec": {
   "display_name": "Python 3 (ipykernel)",
   "language": "python",
   "name": "python3"
  },
  "language_info": {
   "codemirror_mode": {
    "name": "ipython",
    "version": 3
   },
   "file_extension": ".py",
   "mimetype": "text/x-python",
   "name": "python",
   "nbconvert_exporter": "python",
   "pygments_lexer": "ipython3",
   "version": "3.9.16"
  }
 },
 "nbformat": 4,
 "nbformat_minor": 5
}
