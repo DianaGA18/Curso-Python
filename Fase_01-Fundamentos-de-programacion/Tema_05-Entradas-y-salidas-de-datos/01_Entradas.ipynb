{
 "cells": [
  {
   "cell_type": "markdown",
   "id": "bcce7519",
   "metadata": {},
   "source": [
    "# Entradas por teclado\n",
    "Ya se conoce la funcion input(), que lee una cadena por teclado. Su unico inconveniente es que se debe transformar el valor a un numero si se quiere hacer operaciones con el (casting):"
   ]
  },
  {
   "cell_type": "code",
   "execution_count": 2,
   "id": "9bbd7860",
   "metadata": {},
   "outputs": [
    {
     "name": "stdout",
     "output_type": "stream",
     "text": [
      "Introduce un numero decimal con punto: 10.25\n"
     ]
    }
   ],
   "source": [
    "decimal = float( input(\"Introduce un numero decimal con punto: \"))"
   ]
  },
  {
   "cell_type": "code",
   "execution_count": 4,
   "id": "2275aed8",
   "metadata": {},
   "outputs": [
    {
     "data": {
      "text/plain": [
       "float"
      ]
     },
     "execution_count": 4,
     "metadata": {},
     "output_type": "execute_result"
    }
   ],
   "source": [
    "type (decimal)"
   ]
  },
  {
   "cell_type": "code",
   "execution_count": 5,
   "id": "093d1ed8",
   "metadata": {},
   "outputs": [
    {
     "data": {
      "text/plain": [
       "10.25"
      ]
     },
     "execution_count": 5,
     "metadata": {},
     "output_type": "execute_result"
    }
   ],
   "source": [
    "decimal"
   ]
  },
  {
   "cell_type": "code",
   "execution_count": 8,
   "id": "947cbf17",
   "metadata": {},
   "outputs": [],
   "source": [
    "valores=[]"
   ]
  },
  {
   "cell_type": "code",
   "execution_count": 9,
   "id": "b26f1062",
   "metadata": {},
   "outputs": [
    {
     "name": "stdout",
     "output_type": "stream",
     "text": [
      "Introduce 3 valores\n",
      "Introduce un valor: 3.1416\n",
      "Introduce un valor: hjdsh\n",
      "Introduce un valor: fdyc\n"
     ]
    }
   ],
   "source": [
    "print(\"Introduce 3 valores\")\n",
    "for x in range(3):\n",
    "    valores.append(input(\"Introduce un valor: \"))"
   ]
  },
  {
   "cell_type": "code",
   "execution_count": 10,
   "id": "4b4de4aa",
   "metadata": {},
   "outputs": [
    {
     "data": {
      "text/plain": [
       "['3.1416', 'hjdsh', 'fdyc']"
      ]
     },
     "execution_count": 10,
     "metadata": {},
     "output_type": "execute_result"
    }
   ],
   "source": [
    "valores"
   ]
  },
  {
   "cell_type": "code",
   "execution_count": 11,
   "id": "f067f9d5",
   "metadata": {},
   "outputs": [
    {
     "data": {
      "text/plain": [
       "type[['3.1416', 'hjdsh', 'fdyc']]"
      ]
     },
     "execution_count": 11,
     "metadata": {},
     "output_type": "execute_result"
    }
   ],
   "source": [
    "type[valores]"
   ]
  },
  {
   "cell_type": "code",
   "execution_count": null,
   "id": "da878432",
   "metadata": {},
   "outputs": [],
   "source": []
  }
 ],
 "metadata": {
  "kernelspec": {
   "display_name": "Python 3 (ipykernel)",
   "language": "python",
   "name": "python3"
  },
  "language_info": {
   "codemirror_mode": {
    "name": "ipython",
    "version": 3
   },
   "file_extension": ".py",
   "mimetype": "text/x-python",
   "name": "python",
   "nbconvert_exporter": "python",
   "pygments_lexer": "ipython3",
   "version": "3.9.16"
  }
 },
 "nbformat": 4,
 "nbformat_minor": 5
}
