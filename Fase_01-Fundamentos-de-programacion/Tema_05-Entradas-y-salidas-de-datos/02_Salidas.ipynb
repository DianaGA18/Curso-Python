{
 "cells": [
  {
   "cell_type": "markdown",
   "id": "3d686d9b",
   "metadata": {},
   "source": [
    "# Salidas por pantalla\n",
    "La funcion print() es la forma general de mostrar informacion por pantalla, generalmente es posible mostrar texto y variables separandolas por comas:"
   ]
  },
  {
   "cell_type": "code",
   "execution_count": 1,
   "id": "c8a015da",
   "metadata": {},
   "outputs": [
    {
     "name": "stdout",
     "output_type": "stream",
     "text": [
      "Un texto otro texto y un numero 10\n"
     ]
    }
   ],
   "source": [
    "v = \"otro texto\"\n",
    "n =10\n",
    "print(\"Un texto\",v,\"y un numero\",n)"
   ]
  },
  {
   "cell_type": "markdown",
   "id": "fd0d76b0",
   "metadata": {},
   "source": [
    "## El metodo.format()\n",
    "Es la funcionalidad de las cadenas de texto que permite formatear informacion de una cadena (variables o valores literales) comodamente utilizando identificadores referenciados:"
   ]
  },
  {
   "cell_type": "code",
   "execution_count": 2,
   "id": "935bf25f",
   "metadata": {},
   "outputs": [],
   "source": [
    "c = \"Un texto '{}' y un numero '{}'\".format(v,n)"
   ]
  },
  {
   "cell_type": "code",
   "execution_count": 3,
   "id": "eac5d688",
   "metadata": {},
   "outputs": [
    {
     "data": {
      "text/plain": [
       "\"Un texto 'otro texto' y un numero '10'\""
      ]
     },
     "execution_count": 3,
     "metadata": {},
     "output_type": "execute_result"
    }
   ],
   "source": [
    "c"
   ]
  },
  {
   "cell_type": "code",
   "execution_count": 4,
   "id": "948b89c8",
   "metadata": {},
   "outputs": [
    {
     "name": "stdout",
     "output_type": "stream",
     "text": [
      "Un texto 'otro texto' y un numero '10'\n"
     ]
    }
   ],
   "source": [
    "print(c)"
   ]
  },
  {
   "cell_type": "markdown",
   "id": "6f16db84",
   "metadata": {},
   "source": [
    "## Tambien se puede referenciar a partir de la posicion de los valores utilizados con indices:"
   ]
  },
  {
   "cell_type": "code",
   "execution_count": 5,
   "id": "938cdf14",
   "metadata": {},
   "outputs": [
    {
     "name": "stdout",
     "output_type": "stream",
     "text": [
      "Un texto '10' y un numero 'otro texto'\n"
     ]
    }
   ],
   "source": [
    "print(\"Un texto '{1}' y un numero '{0}'\".format(v,n))"
   ]
  },
  {
   "cell_type": "markdown",
   "id": "a0f24499",
   "metadata": {},
   "source": [
    "#### O se puede utilizar un identificador con una clave para despues pasarlas al format:"
   ]
  },
  {
   "cell_type": "code",
   "execution_count": 6,
   "id": "d29480a8",
   "metadata": {},
   "outputs": [
    {
     "name": "stdout",
     "output_type": "stream",
     "text": [
      "Un texto 'otro texto' y un numero '10'\n"
     ]
    }
   ],
   "source": [
    "print (\"Un texto '{v}' y un numero '{n}'\".format(n=n, v=v))"
   ]
  },
  {
   "cell_type": "code",
   "execution_count": 7,
   "id": "539b0602",
   "metadata": {},
   "outputs": [
    {
     "name": "stdout",
     "output_type": "stream",
     "text": [
      "otro texto,otro texto,otro texto\n"
     ]
    }
   ],
   "source": [
    "print(\"{v},{v},{v}\".format(v=v))"
   ]
  },
  {
   "cell_type": "markdown",
   "id": "2718151a",
   "metadata": {},
   "source": [
    "## Formateo Avanzado\n",
    "### Alineamiento a la derecha en 30 caracteres."
   ]
  },
  {
   "cell_type": "code",
   "execution_count": 9,
   "id": "16935efc",
   "metadata": {},
   "outputs": [
    {
     "name": "stdout",
     "output_type": "stream",
     "text": [
      "                       palabra\n"
     ]
    }
   ],
   "source": [
    "print( \"{:>30}\".format(\"palabra\"))"
   ]
  },
  {
   "cell_type": "markdown",
   "id": "d5da516d",
   "metadata": {},
   "source": [
    "### Alineamiento a la izquierda en 30 caracteres."
   ]
  },
  {
   "cell_type": "code",
   "execution_count": 10,
   "id": "981b2c85",
   "metadata": {},
   "outputs": [
    {
     "name": "stdout",
     "output_type": "stream",
     "text": [
      "palabra                       \n"
     ]
    }
   ],
   "source": [
    "print( \"{:30}\".format(\"palabra\"))"
   ]
  },
  {
   "cell_type": "markdown",
   "id": "e02c0a8d",
   "metadata": {},
   "source": [
    "### Alineamiento al centro en 30 caracteres."
   ]
  },
  {
   "cell_type": "code",
   "execution_count": 11,
   "id": "80850bfc",
   "metadata": {},
   "outputs": [
    {
     "name": "stdout",
     "output_type": "stream",
     "text": [
      "           palabra            \n"
     ]
    }
   ],
   "source": [
    "print( \"{:^30}\".format(\"palabra\"))"
   ]
  },
  {
   "cell_type": "markdown",
   "id": "815b33ac",
   "metadata": {},
   "source": [
    "### Truncamiento al centro en 3 caracteres."
   ]
  },
  {
   "cell_type": "code",
   "execution_count": 12,
   "id": "0b81a954",
   "metadata": {},
   "outputs": [
    {
     "name": "stdout",
     "output_type": "stream",
     "text": [
      "Palab\n"
     ]
    }
   ],
   "source": [
    "print( \"{:.5}\".format(\"Palabra\"))"
   ]
  },
  {
   "cell_type": "markdown",
   "id": "d43a0a90",
   "metadata": {},
   "source": [
    "### Alineamiento a la derecha en 30 caracteres con truncamiento de 3."
   ]
  },
  {
   "cell_type": "code",
   "execution_count": 14,
   "id": "1316ea51",
   "metadata": {},
   "outputs": [
    {
     "name": "stdout",
     "output_type": "stream",
     "text": [
      "                           Pal\n"
     ]
    }
   ],
   "source": [
    "print ( \"{:>30.3}\".format(\"Palabra\"))"
   ]
  },
  {
   "cell_type": "markdown",
   "id": "c1571be4",
   "metadata": {},
   "source": [
    "### Formateo de numeros enteros, rellenados con espacios."
   ]
  },
  {
   "cell_type": "code",
   "execution_count": 17,
   "id": "a471bf42",
   "metadata": {},
   "outputs": [
    {
     "name": "stdout",
     "output_type": "stream",
     "text": [
      "  10\n",
      " 100\n",
      "1000\n"
     ]
    }
   ],
   "source": [
    "print(\"{:4d}\".format(10))\n",
    "print(\"{:4d}\".format(100))\n",
    "print(\"{:4d}\".format(1000))"
   ]
  },
  {
   "cell_type": "markdown",
   "id": "06206400",
   "metadata": {},
   "source": [
    "### Formateo de numeros enteros, rellenados con ceros."
   ]
  },
  {
   "cell_type": "code",
   "execution_count": 18,
   "id": "6aa8f782",
   "metadata": {},
   "outputs": [
    {
     "name": "stdout",
     "output_type": "stream",
     "text": [
      "0010\n",
      "0100\n",
      "1000\n"
     ]
    }
   ],
   "source": [
    "print(\"{:04d}\".format(10))\n",
    "print(\"{:04d}\".format(100))\n",
    "print(\"{:04d}\".format(1000))"
   ]
  },
  {
   "cell_type": "markdown",
   "id": "08ccae4b",
   "metadata": {},
   "source": [
    "### Formateo de numeros flotantes, rellenados con espacios."
   ]
  },
  {
   "cell_type": "code",
   "execution_count": 19,
   "id": "f5bff5d2",
   "metadata": {},
   "outputs": [
    {
     "name": "stdout",
     "output_type": "stream",
     "text": [
      "  3.142\n",
      "1543.142\n"
     ]
    }
   ],
   "source": [
    "print(\"{:7.3f}\".format(3.1415926))\n",
    "print(\"{:7.3f}\".format(1543.1415926))"
   ]
  },
  {
   "cell_type": "markdown",
   "id": "27d3abae",
   "metadata": {},
   "source": [
    "### Formateo de numeros flotantes, rellenados con ceros."
   ]
  },
  {
   "cell_type": "code",
   "execution_count": 21,
   "id": "6771afd3",
   "metadata": {},
   "outputs": [
    {
     "name": "stdout",
     "output_type": "stream",
     "text": [
      "003.142\n",
      "1543.142\n"
     ]
    }
   ],
   "source": [
    "print(\"{:07.3f}\".format(3.1415926))\n",
    "print(\"{:07.3f}\".format(1543.1415926))"
   ]
  },
  {
   "cell_type": "code",
   "execution_count": null,
   "id": "fe52748b",
   "metadata": {},
   "outputs": [],
   "source": []
  }
 ],
 "metadata": {
  "kernelspec": {
   "display_name": "Python 3 (ipykernel)",
   "language": "python",
   "name": "python3"
  },
  "language_info": {
   "codemirror_mode": {
    "name": "ipython",
    "version": 3
   },
   "file_extension": ".py",
   "mimetype": "text/x-python",
   "name": "python",
   "nbconvert_exporter": "python",
   "pygments_lexer": "ipython3",
   "version": "3.9.16"
  }
 },
 "nbformat": 4,
 "nbformat_minor": 5
}
