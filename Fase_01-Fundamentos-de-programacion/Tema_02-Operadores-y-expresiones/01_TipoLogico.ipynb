{
 "cells": [
  {
   "cell_type": "markdown",
   "id": "5ef8fd72",
   "metadata": {},
   "source": [
    "# El tipo lógico.\n",
    "Representa la mínima expresión racional:\n",
    "- Verdadero (True)\n",
    "- Falso (False)"
   ]
  },
  {
   "cell_type": "code",
   "execution_count": 1,
   "id": "977326a5",
   "metadata": {},
   "outputs": [
    {
     "data": {
      "text/plain": [
       "False"
      ]
     },
     "execution_count": 1,
     "metadata": {},
     "output_type": "execute_result"
    }
   ],
   "source": [
    "1+1 == 3"
   ]
  },
  {
   "cell_type": "code",
   "execution_count": 2,
   "id": "f67d9e2a",
   "metadata": {},
   "outputs": [
    {
     "data": {
      "text/plain": [
       "True"
      ]
     },
     "execution_count": 2,
     "metadata": {},
     "output_type": "execute_result"
    }
   ],
   "source": [
    "1+1 == 2"
   ]
  },
  {
   "cell_type": "code",
   "execution_count": null,
   "id": "56047833",
   "metadata": {},
   "outputs": [],
   "source": []
  }
 ],
 "metadata": {
  "kernelspec": {
   "display_name": "Python 3 (ipykernel)",
   "language": "python",
   "name": "python3"
  },
  "language_info": {
   "codemirror_mode": {
    "name": "ipython",
    "version": 3
   },
   "file_extension": ".py",
   "mimetype": "text/x-python",
   "name": "python",
   "nbconvert_exporter": "python",
   "pygments_lexer": "ipython3",
   "version": "3.9.16"
  }
 },
 "nbformat": 4,
 "nbformat_minor": 5
}
