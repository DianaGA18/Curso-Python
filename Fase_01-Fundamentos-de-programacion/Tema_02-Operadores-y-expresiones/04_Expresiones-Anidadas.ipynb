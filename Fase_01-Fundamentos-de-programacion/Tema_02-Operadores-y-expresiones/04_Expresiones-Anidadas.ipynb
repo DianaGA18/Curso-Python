{
 "cells": [
  {
   "cell_type": "markdown",
   "id": "5bfbe979",
   "metadata": {},
   "source": [
    "# Expresiones Anidadas\n",
    "Se pueden solucionar empleando las reglas de precedencia:\n",
    "1. Primero los parentesis, porque tienen prioridad.\n",
    "2. Segundo, las expresiones aritmeticas por sus propias reglas.\n",
    "3. Tercero, las expresiones relacionales.\n",
    "4. Cuarto, las expresiones logicas."
   ]
  },
  {
   "cell_type": "code",
   "execution_count": 2,
   "id": "57d45855",
   "metadata": {},
   "outputs": [
    {
     "data": {
      "text/plain": [
       "False"
      ]
     },
     "execution_count": 2,
     "metadata": {},
     "output_type": "execute_result"
    }
   ],
   "source": [
    "a = 10\n",
    "b = 5\n",
    "a * b - 2**b >=20 and not (a % b) !=0"
   ]
  }
 ],
 "metadata": {
  "kernelspec": {
   "display_name": "Python 3 (ipykernel)",
   "language": "python",
   "name": "python3"
  },
  "language_info": {
   "codemirror_mode": {
    "name": "ipython",
    "version": 3
   },
   "file_extension": ".py",
   "mimetype": "text/x-python",
   "name": "python",
   "nbconvert_exporter": "python",
   "pygments_lexer": "ipython3",
   "version": "3.9.16"
  }
 },
 "nbformat": 4,
 "nbformat_minor": 5
}
